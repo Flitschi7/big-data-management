{
 "cells": [
  {
   "cell_type": "code",
   "execution_count": 30,
   "metadata": {},
   "outputs": [],
   "source": [
    "#!pip install -r requirements.txt"
   ]
  },
  {
   "cell_type": "code",
   "execution_count": 31,
   "metadata": {},
   "outputs": [],
   "source": [
    "import pandas as pd\n",
    "import numpy as np\n",
    "import matplotlib.pyplot as plt\n",
    "import seaborn as sns\n",
    "from sklearn.model_selection import train_test_split\n",
    "import mysql.connector\n",
    "from sklearn.metrics import confusion_matrix"
   ]
  },
  {
   "cell_type": "markdown",
   "metadata": {},
   "source": [
    "## Daten aus Datenbank laden"
   ]
  },
  {
   "cell_type": "code",
   "execution_count": 32,
   "metadata": {},
   "outputs": [],
   "source": [
    "#variablen für die Datenbankverbindung\n",
    "benutzer = \"production1\"\n",
    "passwort = \"production42!\"\n",
    "server = \"195.20.227.20\"\n",
    "db = \"production1\"\n",
    "port = 32771\n",
    "#Datenbankverbindung\n",
    "datenbank = mysql.connector.connect(\n",
    "    host = server,\n",
    "    user = benutzer,\n",
    "    password = passwort,\n",
    "    database = db,\n",
    "    port = port,\n",
    "    auth_plugin = 'mysql_native_password',\n",
    "    connect_timeout=100000\n",
    ")\n"
   ]
  },
  {
   "cell_type": "code",
   "execution_count": 33,
   "metadata": {},
   "outputs": [
    {
     "name": "stderr",
     "output_type": "stream",
     "text": [
      "C:\\Users\\User\\AppData\\Local\\Temp\\ipykernel_27076\\2432445196.py:2: UserWarning: pandas only supports SQLAlchemy connectable (engine/connection) or database string URI or sqlite3 DBAPI2 connection. Other DBAPI2 objects are not tested. Please consider using SQLAlchemy.\n",
      "  data = pd.read_sql_query(\"SELECT * FROM wartung\", datenbank)\n"
     ]
    }
   ],
   "source": [
    "#laden der strukturierten Daten aus Datenbank und speichern in Dataframe\n",
    "data = pd.read_sql_query(\"SELECT * FROM wartung\", datenbank)"
   ]
  },
  {
   "cell_type": "markdown",
   "metadata": {},
   "source": [
    "## Daten aufbereiten"
   ]
  },
  {
   "cell_type": "code",
   "execution_count": 34,
   "metadata": {},
   "outputs": [
    {
     "name": "stdout",
     "output_type": "stream",
     "text": [
      "<class 'pandas.core.frame.DataFrame'>\n",
      "RangeIndex: 1095 entries, 0 to 1094\n",
      "Data columns (total 10 columns):\n",
      " #   Column            Non-Null Count  Dtype  \n",
      "---  ------            --------------  -----  \n",
      " 0   MesswertID        1095 non-null   int64  \n",
      " 1   MaschinenID       1095 non-null   object \n",
      " 2   Datum             1095 non-null   object \n",
      " 3   Zeit              1095 non-null   object \n",
      " 4   Druck             1095 non-null   float64\n",
      " 5   Temperatur        1095 non-null   float64\n",
      " 6   Vibration         1095 non-null   float64\n",
      " 7   Anzahlwarning     1095 non-null   int64  \n",
      " 8   Ausschuss         1095 non-null   float64\n",
      " 9   Produktionsindex  1095 non-null   int64  \n",
      "dtypes: float64(4), int64(3), object(3)\n",
      "memory usage: 85.7+ KB\n",
      "None\n"
     ]
    }
   ],
   "source": [
    "#Datentypen ausgeben\n",
    "print(data.info())"
   ]
  },
  {
   "cell_type": "code",
   "execution_count": 35,
   "metadata": {},
   "outputs": [
    {
     "name": "stdout",
     "output_type": "stream",
     "text": [
      "Datentypen:\n",
      "MesswertID          0\n",
      "MaschinenID         0\n",
      "Datum               0\n",
      "Zeit                0\n",
      "Druck               0\n",
      "Temperatur          0\n",
      "Vibration           0\n",
      "Anzahlwarning       0\n",
      "Ausschuss           0\n",
      "Produktionsindex    0\n",
      "dtype: int64\n"
     ]
    }
   ],
   "source": [
    "#Anzahl Nullwerte\n",
    "print(\"Datentypen:\")\n",
    "print(data.isnull().sum())"
   ]
  },
  {
   "cell_type": "code",
   "execution_count": 36,
   "metadata": {},
   "outputs": [
    {
     "name": "stdout",
     "output_type": "stream",
     "text": [
      "<class 'pandas.core.frame.DataFrame'>\n",
      "RangeIndex: 1095 entries, 0 to 1094\n",
      "Data columns (total 10 columns):\n",
      " #   Column            Non-Null Count  Dtype  \n",
      "---  ------            --------------  -----  \n",
      " 0   MesswertID        1095 non-null   int64  \n",
      " 1   MaschinenID       1095 non-null   object \n",
      " 2   Datum             1095 non-null   object \n",
      " 3   Zeit              1095 non-null   object \n",
      " 4   Druck             1095 non-null   float64\n",
      " 5   Temperatur        1095 non-null   float64\n",
      " 6   Vibration         1095 non-null   float64\n",
      " 7   Anzahlwarning     1095 non-null   int64  \n",
      " 8   Ausschuss         1095 non-null   float64\n",
      " 9   Produktionsindex  1095 non-null   int64  \n",
      "dtypes: float64(4), int64(3), object(3)\n",
      "memory usage: 85.7+ KB\n",
      "None\n"
     ]
    }
   ],
   "source": [
    "#Datensätze mit Duplikaten entfernen\n",
    "data.drop_duplicates(inplace=True)\n",
    "print(data.info())\n"
   ]
  },
  {
   "cell_type": "code",
   "execution_count": 37,
   "metadata": {},
   "outputs": [
    {
     "name": "stdout",
     "output_type": "stream",
     "text": [
      "   MesswertID MaschinenID       Datum   Zeit    Druck  Temperatur  Vibration  \\\n",
      "0       12478          A1  01.02.2022  06:00  47.6190     61.9048    28.5714   \n",
      "1       12479          A1  01.02.2022  06:05  48.5714     62.8571    47.6190   \n",
      "2       12480          A1  01.02.2022  06:10  57.1429     76.1905    33.3333   \n",
      "3       12481          A1  01.02.2022  06:15   0.0000      0.0000     0.0000   \n",
      "4       12482          A1  01.02.2022  06:20   0.0000      0.0000     0.0000   \n",
      "\n",
      "   Anzahlwarning  Ausschuss  Produktionsindex  \n",
      "0              3        2.0                85  \n",
      "1              5        3.0                87  \n",
      "2             12       11.0                91  \n",
      "3              2        0.0                84  \n",
      "4              2        0.0                85  \n"
     ]
    }
   ],
   "source": [
    "print(data.head())"
   ]
  },
  {
   "cell_type": "markdown",
   "metadata": {},
   "source": [
    "### Fehlerhafte Daten  beim Datum identifizieren und korrigieren"
   ]
  },
  {
   "cell_type": "code",
   "execution_count": 38,
   "metadata": {},
   "outputs": [
    {
     "name": "stdout",
     "output_type": "stream",
     "text": [
      "<class 'pandas.core.frame.DataFrame'>\n",
      "RangeIndex: 1095 entries, 0 to 1094\n",
      "Data columns (total 10 columns):\n",
      " #   Column            Non-Null Count  Dtype  \n",
      "---  ------            --------------  -----  \n",
      " 0   MesswertID        1095 non-null   int64  \n",
      " 1   MaschinenID       1095 non-null   object \n",
      " 2   Datum             1086 non-null   object \n",
      " 3   Zeit              1095 non-null   object \n",
      " 4   Druck             1095 non-null   float64\n",
      " 5   Temperatur        1095 non-null   float64\n",
      " 6   Vibration         1095 non-null   float64\n",
      " 7   Anzahlwarning     1095 non-null   int64  \n",
      " 8   Ausschuss         1095 non-null   float64\n",
      " 9   Produktionsindex  1095 non-null   int64  \n",
      "dtypes: float64(4), int64(3), object(3)\n",
      "memory usage: 85.7+ KB\n",
      "None\n"
     ]
    }
   ],
   "source": [
    "#konvertieren von Datum in datetime und entfernen von Uhrzeit und Zeitzone\n",
    "data['Datum'] = pd.to_datetime(data['Datum'], format='%d.%m.%Y', errors='coerce').dt.date\n",
    "print(data.info())"
   ]
  },
  {
   "cell_type": "code",
   "execution_count": 39,
   "metadata": {},
   "outputs": [],
   "source": [
    "#konvertieren von Zeit in Datetime, wenn Wert nicht nutzbar dann NaN\n",
    "data['Zeit'] = pd.to_datetime(data['Zeit'], format='%H:%M', errors='coerce').dt.time\n",
    "d1 = data"
   ]
  },
  {
   "cell_type": "markdown",
   "metadata": {},
   "source": [
    "### Neue Ausfall Spalte hinzufügen"
   ]
  },
  {
   "cell_type": "code",
   "execution_count": 40,
   "metadata": {},
   "outputs": [
    {
     "name": "stdout",
     "output_type": "stream",
     "text": [
      "   MesswertID MaschinenID       Datum      Zeit    Druck  Temperatur  \\\n",
      "0       12478          A1  2022-02-01  06:00:00  47.6190     61.9048   \n",
      "1       12479          A1  2022-02-01  06:05:00  48.5714     62.8571   \n",
      "2       12480          A1  2022-02-01  06:10:00  57.1429     76.1905   \n",
      "3       12481          A1  2022-02-01  06:15:00   0.0000      0.0000   \n",
      "4       12482          A1  2022-02-01  06:20:00   0.0000      0.0000   \n",
      "5       12483          A1  2022-02-01  06:25:00   0.0000      0.0000   \n",
      "6       12484          A1  2022-02-01  06:30:00   0.0000      0.0000   \n",
      "7       12485          A1  2022-02-01  06:35:00   0.0000      0.0000   \n",
      "8       12486          A1  2022-02-01  06:40:00   0.0000      0.0000   \n",
      "9       12487          A1  2022-02-01  06:45:00   0.0000      0.0000   \n",
      "\n",
      "   Vibration  Anzahlwarning  Ausschuss  Produktionsindex  Ausfall  \n",
      "0    28.5714              3        2.0                85        0  \n",
      "1    47.6190              5        3.0                87        0  \n",
      "2    33.3333             12       11.0                91        0  \n",
      "3     0.0000              2        0.0                84        1  \n",
      "4     0.0000              2        0.0                85        1  \n",
      "5     0.0000              1        0.0                87        1  \n",
      "6     0.0000              2        0.0                99        1  \n",
      "7     0.0000              1        0.0                85        1  \n",
      "8     0.0000              2        0.0                90        1  \n",
      "9     0.0000              1        0.0                87        1  \n"
     ]
    }
   ],
   "source": [
    "#neue Spalte für Ausfall hinzufügen \n",
    "d1['Ausfall'] = np.where((d1['Druck'] == 0) & (d1['Temperatur'] == 0) & (d1['Vibration'] == 0) & (d1['Ausschuss'] == 0), 1, 0)\n",
    "print(d1.head(10))\n",
    "d2 = d1"
   ]
  },
  {
   "cell_type": "code",
   "execution_count": 41,
   "metadata": {},
   "outputs": [
    {
     "name": "stdout",
     "output_type": "stream",
     "text": [
      "Ausfall\n",
      "0    807\n",
      "1    288\n",
      "Name: count, dtype: int64\n"
     ]
    }
   ],
   "source": [
    "print(d2['Ausfall'].value_counts())"
   ]
  },
  {
   "cell_type": "code",
   "execution_count": 42,
   "metadata": {},
   "outputs": [
    {
     "name": "stdout",
     "output_type": "stream",
     "text": [
      "Error\n",
      "0    1065\n",
      "1      30\n",
      "Name: count, dtype: int64\n"
     ]
    }
   ],
   "source": [
    "#neue Spalte für Fehlerhafte Werte hinzufügen\n",
    "d2['Error'] = np.where((d2['Ausfall'] == 0) & ((d2['Druck'] == 0) | (d2['Temperatur'] == 0) | (d2['Vibration'] == 0)), 1, 0)\n",
    "#Anzahl der Fehlerhaften Werte\n",
    "print(d2['Error'].value_counts())"
   ]
  },
  {
   "cell_type": "code",
   "execution_count": 43,
   "metadata": {},
   "outputs": [
    {
     "name": "stdout",
     "output_type": "stream",
     "text": [
      "<class 'pandas.core.frame.DataFrame'>\n",
      "Index: 1065 entries, 0 to 1094\n",
      "Data columns (total 11 columns):\n",
      " #   Column            Non-Null Count  Dtype  \n",
      "---  ------            --------------  -----  \n",
      " 0   MesswertID        1065 non-null   int64  \n",
      " 1   MaschinenID       1065 non-null   object \n",
      " 2   Datum             1056 non-null   object \n",
      " 3   Zeit              1056 non-null   object \n",
      " 4   Druck             1065 non-null   float64\n",
      " 5   Temperatur        1065 non-null   float64\n",
      " 6   Vibration         1065 non-null   float64\n",
      " 7   Anzahlwarning     1065 non-null   int64  \n",
      " 8   Ausschuss         1065 non-null   float64\n",
      " 9   Produktionsindex  1065 non-null   int64  \n",
      " 10  Ausfall           1065 non-null   int32  \n",
      "dtypes: float64(4), int32(1), int64(3), object(3)\n",
      "memory usage: 95.7+ KB\n",
      "None\n"
     ]
    }
   ],
   "source": [
    "#30 errors können gelöscht werden, da unter 1% der Daten\n",
    "d2 = d2[d2['Error'] == 0]\n",
    "d2 = d2.drop(['Error'], axis=1)\n",
    "print(d2.info())\n"
   ]
  },
  {
   "cell_type": "code",
   "execution_count": 44,
   "metadata": {},
   "outputs": [
    {
     "name": "stdout",
     "output_type": "stream",
     "text": [
      "<class 'pandas.core.frame.DataFrame'>\n",
      "Index: 1056 entries, 0 to 1085\n",
      "Data columns (total 11 columns):\n",
      " #   Column            Non-Null Count  Dtype  \n",
      "---  ------            --------------  -----  \n",
      " 0   MesswertID        1056 non-null   int64  \n",
      " 1   MaschinenID       1056 non-null   object \n",
      " 2   Datum             1056 non-null   object \n",
      " 3   Zeit              1056 non-null   object \n",
      " 4   Druck             1056 non-null   float64\n",
      " 5   Temperatur        1056 non-null   float64\n",
      " 6   Vibration         1056 non-null   float64\n",
      " 7   Anzahlwarning     1056 non-null   int64  \n",
      " 8   Ausschuss         1056 non-null   float64\n",
      " 9   Produktionsindex  1056 non-null   int64  \n",
      " 10  Ausfall           1056 non-null   int32  \n",
      "dtypes: float64(4), int32(1), int64(3), object(3)\n",
      "memory usage: 94.9+ KB\n",
      "None\n"
     ]
    }
   ],
   "source": [
    "#In der Datumsspalte gibt es leere Werte da diese nicht in einem gültigen Format sind. Diese Zeilen können gelöscht werden, da sie nur 0,1% der Daten ausmachen (alternativ könnte man die Annahme treffen, dass diese, da am ende dem 08.02. zugeordnet werden können (input))\n",
    "d2 = d2.dropna(subset=['Datum'])\n",
    "print(d2.info())"
   ]
  },
  {
   "cell_type": "code",
   "execution_count": 45,
   "metadata": {},
   "outputs": [
    {
     "data": {
      "image/png": "[encoded data removed]",
      "text/plain": [
       "<Figure size 1500x1000 with 4 Axes>"
      ]
     },
     "metadata": {},
     "output_type": "display_data"
    }
   ],
   "source": [
    "#Ausreiser erkennen für Druck, Temperatur, Vibration und Ausschuss in einem boxplot mit seaborn\n",
    "fig, ax = plt.subplots(2,2, figsize=(15,10))\n",
    "sns.boxplot(x=d2['Druck'], ax=ax[0,0])\n",
    "sns.boxplot(x=d2['Temperatur'], ax=ax[0,1])\n",
    "sns.boxplot(x=d2['Vibration'], ax=ax[1,0])\n",
    "sns.boxplot(x=d2['Ausschuss'], ax=ax[1,1])\n",
    "plt.show()"
   ]
  },
  {
   "cell_type": "code",
   "execution_count": 46,
   "metadata": {},
   "outputs": [
    {
     "name": "stdout",
     "output_type": "stream",
     "text": [
      "<class 'pandas.core.frame.DataFrame'>\n",
      "Index: 1044 entries, 0 to 1085\n",
      "Data columns (total 11 columns):\n",
      " #   Column            Non-Null Count  Dtype  \n",
      "---  ------            --------------  -----  \n",
      " 0   MesswertID        1044 non-null   int64  \n",
      " 1   MaschinenID       1044 non-null   object \n",
      " 2   Datum             1044 non-null   object \n",
      " 3   Zeit              1044 non-null   object \n",
      " 4   Druck             1044 non-null   float64\n",
      " 5   Temperatur        1044 non-null   float64\n",
      " 6   Vibration         1044 non-null   float64\n",
      " 7   Anzahlwarning     1044 non-null   int64  \n",
      " 8   Ausschuss         1044 non-null   float64\n",
      " 9   Produktionsindex  1044 non-null   int64  \n",
      " 10  Ausfall           1044 non-null   int32  \n",
      "dtypes: float64(4), int32(1), int64(3), object(3)\n",
      "memory usage: 93.8+ KB\n"
     ]
    }
   ],
   "source": [
    "#ausreißer entfernen druck über 100 aber leere behalten\n",
    "d2 = d2[(d2['Druck'] < 100) | (d2['Druck'].isnull())]\n",
    "d2.info()"
   ]
  },
  {
   "cell_type": "code",
   "execution_count": 47,
   "metadata": {},
   "outputs": [
    {
     "data": {
      "image/png": "[encoded data removed]",
      "text/plain": [
       "<Figure size 1500x1000 with 4 Axes>"
      ]
     },
     "metadata": {},
     "output_type": "display_data"
    }
   ],
   "source": [
    "#Ausreißer überprüfen\n",
    "fig, ax = plt.subplots(2,2, figsize=(15,10))\n",
    "sns.boxplot(x=d2['Druck'], ax=ax[0,0])\n",
    "sns.boxplot(x=d2['Temperatur'], ax=ax[0,1])\n",
    "sns.boxplot(x=d2['Vibration'], ax=ax[1,0])\n",
    "sns.boxplot(x=d2['Ausschuss'], ax=ax[1,1])\n",
    "plt.show()"
   ]
  },
  {
   "cell_type": "code",
   "execution_count": 48,
   "metadata": {},
   "outputs": [],
   "source": [
    "d4 = d2\n",
    "d3 = d2\n",
    "d3.drop(['Datum', 'Zeit','MaschinenID'], axis=1, inplace=True)"
   ]
  },
  {
   "cell_type": "code",
   "execution_count": 49,
   "metadata": {},
   "outputs": [
    {
     "data": {
      "image/png": "[encoded data removed]",
      "text/plain": [
       "<Figure size 1000x1000 with 2 Axes>"
      ]
     },
     "metadata": {},
     "output_type": "display_data"
    }
   ],
   "source": [
    "#korrelationen anzeigen\n",
    "correlation = d3.corr()\n",
    "plt.figure(figsize=(10,10))\n",
    "sns.heatmap(correlation, annot=True, cmap='coolwarm')\n",
    "plt.show()"
   ]
  },
  {
   "cell_type": "code",
   "execution_count": 50,
   "metadata": {},
   "outputs": [],
   "source": [
    "#irrelevante spalten entfernen (man erkennt dass der Produktionsindex sehr unregelmäßig verteilt ist und keine Korrelation zu den anderen Werten hat)\n",
    "d4 = d4.drop([ 'Produktionsindex','MesswertID'], axis=1)"
   ]
  },
  {
   "cell_type": "markdown",
   "metadata": {},
   "source": [
    "#### Rollender Mittelwert:"
   ]
  },
  {
   "cell_type": "code",
   "execution_count": null,
   "metadata": {},
   "outputs": [],
   "source": [
    "#rollender mittelwert hinzufügen\n",
    "d4['Druck_rolling'] = d3['Druck'].rolling(window=12).mean()\n",
    "d4['Vibration_rolling'] = d3['Vibration'].rolling(window=12).mean()\n",
    "d4['Temperatur_rolling'] = d3['Temperatur'].rolling(window=12).mean()\n",
    "d4['Ausschuss_rolling'] = d3['Ausschuss'].rolling(window=12).mean()\n",
    "d4['Anzahlwarning_rolling'] = d3['Anzahlwarning'].rolling(window=12).mean()"
   ]
  },
  {
   "cell_type": "code",
   "execution_count": null,
   "metadata": {},
   "outputs": [],
   "source": [
    "#rollende standardabweichung hinzufügen\n",
    "d4['Druck_std'] = d3['Druck'].rolling(window=12).std()\n",
    "d4['Vibration_std'] = d3['Vibration'].rolling(window=12).std()\n",
    "d4['Temperatur_std'] = d3['Temperatur'].rolling(window=12).std()\n",
    "d4['Anzahlwarning_std'] = d3['Anzahlwarning'].rolling(window=12).std()"
   ]
  },
  {
   "cell_type": "code",
   "execution_count": null,
   "metadata": {},
   "outputs": [],
   "source": [
    "#andere spalten entfernen\n",
    "d4 = d4.drop(['Druck', 'Vibration', 'Temperatur', 'Ausschuss',\"Anzahlwarning\"], axis=1)\n",
    "d4.info()"
   ]
  },
  {
   "cell_type": "code",
   "execution_count": null,
   "metadata": {},
   "outputs": [],
   "source": [
    "#fill NaN values with 0\n",
    "d4 = d4.fillna(0)"
   ]
  },
  {
   "cell_type": "code",
   "execution_count": null,
   "metadata": {},
   "outputs": [],
   "source": [
    "d4.describe()"
   ]
  },
  {
   "cell_type": "code",
   "execution_count": null,
   "metadata": {},
   "outputs": [],
   "source": [
    "df_reset = d4.reset_index(drop=True)\n"
   ]
  },
  {
   "cell_type": "markdown",
   "metadata": {},
   "source": [
    "Man erkennt, dass die Vibration und Temperatur am meisten Einfluss haben"
   ]
  },
  {
   "cell_type": "code",
   "execution_count": null,
   "metadata": {},
   "outputs": [],
   "source": [
    "#Zielvariabl und Features trennen\n",
    "X = df_reset.drop('Ausfall', axis=1) \n",
    "y = df_reset['Ausfall']  "
   ]
  },
  {
   "cell_type": "code",
   "execution_count": null,
   "metadata": {},
   "outputs": [],
   "source": [
    "#train test split 80/20\n",
    "X_train, X_test, y_train, y_test = train_test_split(X, y, test_size=0.2, random_state=42)\n"
   ]
  },
  {
   "cell_type": "markdown",
   "metadata": {},
   "source": [
    "## Testen der Unterschiedlichen Modelle"
   ]
  },
  {
   "cell_type": "code",
   "execution_count": null,
   "metadata": {},
   "outputs": [],
   "source": [
    "#trainieren des Logistischen Regressionsmodells\n",
    "from sklearn.linear_model import LogisticRegression\n",
    "logmodel = LogisticRegression()\n",
    "logmodel.fit(X_train,y_train)\n",
    "#Ergebnisse ausgeben\n",
    "predictions = logmodel.predict(X_test)\n",
    "from sklearn.metrics import classification_report\n",
    "print(classification_report(y_test,predictions))"
   ]
  },
  {
   "cell_type": "code",
   "execution_count": null,
   "metadata": {},
   "outputs": [],
   "source": [
    "#trainieren des Random Forest Modells\n",
    "from sklearn.ensemble import RandomForestClassifier\n",
    "rfc = RandomForestClassifier(n_estimators=100)\n",
    "rfc.fit(X_train, y_train)\n",
    "#Ergebnisse ausgeben\n",
    "rfc_pred = rfc.predict(X_test)\n",
    "print(classification_report(y_test,rfc_pred))\n"
   ]
  },
  {
   "cell_type": "code",
   "execution_count": null,
   "metadata": {},
   "outputs": [],
   "source": [
    "#trainieren des Gradient Boosting Modells\n",
    "from sklearn.ensemble import GradientBoostingClassifier\n",
    "gb = GradientBoostingClassifier()\n",
    "gb.fit(X_train, y_train)\n",
    "#Ergebnisse ausgeben\n",
    "gb_predictions = gb.predict(X_test)\n",
    "print(classification_report(y_test,gb_predictions))"
   ]
  },
  {
   "cell_type": "code",
   "execution_count": null,
   "metadata": {},
   "outputs": [],
   "source": [
    "#Vergleichen der 2 besten Modelle\n",
    "from sklearn.metrics import roc_auc_score\n",
    "from sklearn.metrics import roc_curve\n",
    "rfc_roc_auc = roc_auc_score(y_test, rfc.predict(X_test))\n",
    "rfc_fpr, rfc_tpr, rfc_thresholds = roc_curve(y_test, rfc.predict_proba(X_test)[:,1])\n",
    "gb_roc_auc = roc_auc_score(y_test, gb.predict(X_test))\n",
    "gb_fpr, gb_tpr, gb_thresholds = roc_curve(y_test, gb.predict_proba(X_test)[:,1])\n",
    "plt.figure()\n",
    "plt.plot(rfc_fpr, rfc_tpr, label='Random Forest (area = %0.2f)' % rfc_roc_auc)\n",
    "plt.plot(gb_fpr, gb_tpr, label='Gradient Boosting (area = %0.2f)' % gb_roc_auc)\n",
    "plt.plot([0, 1], [0, 1],'r--')\n",
    "plt.xlim([0.0, 1.0])\n",
    "plt.ylim([0.0, 1.05])\n",
    "plt.xlabel('False Positive Rate')\n",
    "plt.ylabel('True Positive Rate')\n",
    "plt.title('Receiver operating characteristic')\n",
    "plt.legend(loc=\"lower right\")\n",
    "plt.show()"
   ]
  },
  {
   "cell_type": "code",
   "execution_count": null,
   "metadata": {},
   "outputs": [],
   "source": [
    "#Vergleichen der 2 besten Modelle mit sns confusion matrix\n",
    "conf_mat = confusion_matrix(y_test, rfc_pred)\n",
    "conf_mat2 = confusion_matrix(y_test, gb_predictions)\n",
    "fig, ax = plt.subplots(1,2, figsize=(20,10))\n",
    "sns.heatmap(conf_mat, annot=True, cmap='coolwarm', ax=ax[0])\n",
    "sns.heatmap(conf_mat2, annot=True, cmap='coolwarm', ax=ax[1])\n",
    "plt.show()\n"
   ]
  },
  {
   "cell_type": "markdown",
   "metadata": {},
   "source": [
    "## Entscheidung für das Gradient Boosting Model"
   ]
  },
  {
   "cell_type": "code",
   "execution_count": null,
   "metadata": {},
   "outputs": [],
   "source": [
    "#Wahrschienlichkeit für Ausfall berechnen\n",
    "y_pred = gb.predict_proba(X_test)[:,1]"
   ]
  },
  {
   "cell_type": "code",
   "execution_count": null,
   "metadata": {},
   "outputs": [],
   "source": [
    "y_pred = pd.DataFrame(y_pred, columns=['Probability'])\n",
    "y_pred['Actual'] = y_test.values\n",
    "y_pred['Predicted'] = predictions\n",
    "y_pred['Error'] = np.where(y_pred['Actual'] == y_pred['Predicted'], 0, 1)\n",
    "y_pred['Error'].value_counts()"
   ]
  },
  {
   "cell_type": "code",
   "execution_count": null,
   "metadata": {},
   "outputs": [],
   "source": [
    "y_pred"
   ]
  },
  {
   "cell_type": "code",
   "execution_count": null,
   "metadata": {},
   "outputs": [],
   "source": [
    "#testen wie die verteilung der zielvariable ist und in % anzeigen\n",
    "d4['Ausfall'].value_counts(normalize=True) * 100"
   ]
  },
  {
   "cell_type": "markdown",
   "metadata": {},
   "source": [
    "Eine Verteilung von 50/50 ist bestrebenswerte, jedoch wird diese nicht erreicht wodurch eine Methode zum Normalisieren angewendet werden müsste"
   ]
  },
  {
   "cell_type": "code",
   "execution_count": null,
   "metadata": {},
   "outputs": [],
   "source": [
    "#testen wie das Modell performt wenn die Zielvariable normalisiert wird\n",
    "from sklearn.utils import resample\n",
    "#Separieren der Zielvariablen\n",
    "df_majority = d4[d4.Ausfall==0]\n",
    "df_minority = d4[d4.Ausfall==1]\n",
    "#Upsamlpling der Minderheit\n",
    "df_minority_upsampled = resample(df_minority, \n",
    "                                 replace=True,     \n",
    "                                 n_samples=700,    \n",
    "                                 random_state=42) \n",
    "#Kombinieren der Mehrheit und der upgesamplten Minderheit\n",
    "df_upsampled = pd.concat([df_majority, df_minority_upsampled])\n",
    "#Anzeigen der neuen Verteilung\n",
    "df_upsampled.Ausfall.value_counts()\n"
   ]
  },
  {
   "cell_type": "code",
   "execution_count": null,
   "metadata": {},
   "outputs": [],
   "source": [
    "X_up = df_upsampled.drop('Ausfall', axis=1)\n",
    "y_up = df_upsampled['Ausfall']\n",
    "X_train_up, X_test_up, y_train_up, y_test_up = train_test_split(X_up, y_up, test_size=0.2, random_state=42)"
   ]
  },
  {
   "cell_type": "code",
   "execution_count": null,
   "metadata": {},
   "outputs": [],
   "source": [
    "#trainieren des Gradient Boosting Modells\n",
    "from sklearn.ensemble import GradientBoostingClassifier\n",
    "gb_up = GradientBoostingClassifier()\n",
    "gb_up.fit(X_train_up, y_train_up)\n",
    "#Ergebnisse ausgeben\n",
    "gb_predictions_up = gb.predict(X_test_up)\n",
    "print(classification_report(y_test_up,gb_predictions_up))"
   ]
  },
  {
   "cell_type": "code",
   "execution_count": null,
   "metadata": {},
   "outputs": [],
   "source": [
    "#Lernkurven für gradient boosting modell plotten\n",
    "from sklearn.model_selection import learning_curve\n",
    "train_sizes, train_scores, test_scores = learning_curve(gb, X, y, cv=10, scoring='accuracy', n_jobs=-1, train_sizes=np.linspace(0.01, 1.0, 50))\n",
    "train_mean = np.mean(train_scores, axis=1)\n",
    "train_std = np.std(train_scores, axis=1)\n",
    "test_mean = np.mean(test_scores, axis=1)\n",
    "test_std = np.std(test_scores, axis=1)\n",
    "plt.figure(figsize=(10,10))\n",
    "plt.plot(train_sizes, train_mean, label='Training accuracy')\n",
    "plt.fill_between(train_sizes, train_mean + train_std, train_mean - train_std, alpha=0.15)\n",
    "plt.plot(train_sizes, test_mean, label='Validation accuracy')\n",
    "plt.fill_between(train_sizes, test_mean + test_std, test_mean - test_std, alpha=0.15)\n",
    "plt.title('Learning curve')\n",
    "plt.xlabel('Training data')\n",
    "plt.ylabel('Accuracy')\n",
    "plt.legend()\n",
    "plt.show()\n",
    "\n"
   ]
  },
  {
   "cell_type": "code",
   "execution_count": null,
   "metadata": {},
   "outputs": [],
   "source": [
    "#Lernkurven für gradient boosting modell (normalisiert) plotten\n",
    "from sklearn.model_selection import learning_curve\n",
    "train_sizes, train_scores, test_scores = learning_curve(gb_up, X_up, y_up, cv=10, scoring='accuracy', n_jobs=-1, train_sizes=np.linspace(0.01, 1.0, 50))\n",
    "train_mean = np.mean(train_scores, axis=1)\n",
    "train_std = np.std(train_scores, axis=1)\n",
    "test_mean = np.mean(test_scores, axis=1)\n",
    "test_std = np.std(test_scores, axis=1)\n",
    "plt.figure(figsize=(10,10))\n",
    "plt.plot(train_sizes, train_mean, label='Training accuracy')\n",
    "plt.fill_between(train_sizes, train_mean + train_std, train_mean - train_std, alpha=0.15)\n",
    "plt.plot(train_sizes, test_mean, label='Validation accuracy')\n",
    "plt.fill_between(train_sizes, test_mean + test_std, test_mean - test_std, alpha=0.15)\n",
    "plt.title('Learning curve')\n",
    "plt.xlabel('Training data')\n",
    "plt.ylabel('Accuracy')\n",
    "plt.legend()\n",
    "plt.show()"
   ]
  },
  {
   "cell_type": "markdown",
   "metadata": {},
   "source": [
    "Man erkennt, dass bei einer normalisierten Zielvariable eine noch genauere prediction erzielt werden kann."
   ]
  },
  {
   "cell_type": "markdown",
   "metadata": {},
   "source": [
    "## Prüfen der Einflussfkatoren"
   ]
  },
  {
   "cell_type": "code",
   "execution_count": null,
   "metadata": {},
   "outputs": [],
   "source": [
    "#Korrellationen anzeigen\n",
    "correlation = d4.corr()\n",
    "plt.figure(figsize=(10,10))\n",
    "sns.heatmap(correlation, annot=True, cmap='coolwarm')\n",
    "plt.show()"
   ]
  },
  {
   "cell_type": "code",
   "execution_count": null,
   "metadata": {},
   "outputs": [],
   "source": [
    "#Feature importance anzeigen\n",
    "feature_importance = gb.feature_importances_\n",
    "feature_importance = 100.0 * (feature_importance / feature_importance.max())\n",
    "sorted_idx = np.argsort(feature_importance)\n",
    "pos = np.arange(sorted_idx.shape[0]) + .5\n",
    "plt.figure(figsize=(10,10))\n",
    "plt.barh(pos, feature_importance[sorted_idx], align='center')\n",
    "plt.yticks(pos, X.columns[sorted_idx])\n",
    "plt.xlabel('Relative Importance')\n",
    "plt.title('Variable Importance')\n",
    "plt.show()"
   ]
  },
  {
   "cell_type": "code",
   "execution_count": null,
   "metadata": {},
   "outputs": [],
   "source": [
    "#Modell speichern\n",
    "import pickle\n",
    "filename = 'finalized_model.pkl'\n",
    "pickle.dump(gb, open(filename, 'wb'))"
   ]
  },
  {
   "cell_type": "code",
   "execution_count": null,
   "metadata": {},
   "outputs": [],
   "source": [
    "#save requirements.txt\n",
    "!pip freeze > requirements.txt"
   ]
  },
  {
   "cell_type": "markdown",
   "metadata": {},
   "source": [
    "## Datenanalyse"
   ]
  },
  {
   "cell_type": "markdown",
   "metadata": {},
   "source": [
    "Datenanalyse mit Klassifikationsmodell auf die Zielvariable Ausfall"
   ]
  },
  {
   "cell_type": "markdown",
   "metadata": {},
   "source": [
    "Import benötigter Pakete:"
   ]
  },
  {
   "cell_type": "code",
   "execution_count": null,
   "metadata": {},
   "outputs": [],
   "source": [
    "from sklearn.model_selection import train_test_split\n",
    "from sklearn.ensemble import HistGradientBoostingClassifier\n",
    "from sklearn.metrics import accuracy_score, confusion_matrix\n",
    "from sklearn.ensemble import RandomForestClassifier\n",
    "from sklearn.metrics import precision_score, recall_score, f1_score, roc_auc_score"
   ]
  },
  {
   "cell_type": "markdown",
   "metadata": {},
   "source": [
    "Aufteilung der Daten in Trainings- und Testdaten von d2:\n"
   ]
  },
  {
   "cell_type": "code",
   "execution_count": null,
   "metadata": {},
   "outputs": [],
   "source": [
    "X1 = d2[['Druck', 'Vibration', 'Temperatur', 'Ausschuss', 'Produktionsindex']]\n",
    "y1 = d2['Ausfall']\n",
    "X1_train, X1_test, y1_train, y1_test = train_test_split(X1, y1, test_size=0.2, random_state=42)"
   ]
  },
  {
   "cell_type": "markdown",
   "metadata": {},
   "source": [
    "Aufteilung der Daten in Trainings- und Testdaten von d3:"
   ]
  },
  {
   "cell_type": "code",
   "execution_count": null,
   "metadata": {},
   "outputs": [],
   "source": [
    "X2 = d3[['Druck', 'Vibration', 'Temperatur', 'Ausschuss', 'Produktionsindex']]\n",
    "y2 = d2['Ausfall']\n",
    "X2_train, X2_test, y2_train, y2_test = train_test_split(X2, y2, test_size=0.2, random_state=42)"
   ]
  },
  {
   "cell_type": "markdown",
   "metadata": {},
   "source": [
    "### Modellbildung mit Gradient boost:"
   ]
  },
  {
   "cell_type": "code",
   "execution_count": null,
   "metadata": {},
   "outputs": [],
   "source": [
    "# Initialisierung des Modells\n",
    "model = HistGradientBoostingClassifier()\n",
    "\n",
    "# Anpassung des Modells an die Trainingsdaten\n",
    "model.fit(X1_train, y1_train)\n",
    "\n",
    "# Vorhersagen auf den Testdaten\n",
    "y1_pred = model.predict(X1_test)"
   ]
  },
  {
   "cell_type": "markdown",
   "metadata": {},
   "source": [
    "Bewertung des Modells Gradient Boost:"
   ]
  },
  {
   "cell_type": "code",
   "execution_count": null,
   "metadata": {},
   "outputs": [],
   "source": [
    "accuracy = accuracy_score(y1_test, y1_pred)\n",
    "print(f'Accuracy: {accuracy}')\n",
    "\n",
    "# Precision\n",
    "precision = precision_score(y1_test, y1_pred)\n",
    "\n",
    "# Recall\n",
    "recall = recall_score(y1_test, y1_pred)\n",
    "\n",
    "# F1-Score\n",
    "f1 = f1_score(y1_test, y1_pred)\n",
    "\n",
    "# AUC-ROC Score\n",
    "roc_auc = roc_auc_score(y1_test, y1_pred)\n",
    "\n",
    "# Zeige die Ergebnisse an\n",
    "print(f'Precision: {precision}')\n",
    "print(f'Recall: {recall}')\n",
    "print(f'F1-Score: {f1}')\n",
    "print(f'AUC-ROC Score: {roc_auc}')"
   ]
  },
  {
   "cell_type": "code",
   "execution_count": null,
   "metadata": {},
   "outputs": [],
   "source": [
    "# Darstellung der Confusion Matrix\n",
    "conf_matrix1 = confusion_matrix(y1_test, y1_pred)\n",
    "plt.figure(figsize=(8, 6))\n",
    "sns.heatmap(conf_matrix1, annot=True, fmt='d', cmap='Blues', cbar=False,\n",
    "            xticklabels=['Predicted 0', 'Predicted 1'],\n",
    "            yticklabels=['Actual 0', 'Actual 1'])\n",
    "plt.xlabel('Predicted')\n",
    "plt.ylabel('Actual')\n",
    "plt.title('Confusion Matrix')\n",
    "plt.show()"
   ]
  },
  {
   "cell_type": "markdown",
   "metadata": {},
   "source": [
    "### Modellbildung mit Random Forrest: "
   ]
  },
  {
   "cell_type": "markdown",
   "metadata": {},
   "source": [
    "Hier wurden alle Daten die NaN sind durch 0 ersetzt weil weil das Modell nicht mit NaN werten arbeiten kann"
   ]
  },
  {
   "cell_type": "markdown",
   "metadata": {},
   "source": []
  },
  {
   "cell_type": "code",
   "execution_count": null,
   "metadata": {},
   "outputs": [],
   "source": [
    "# Initialisierung des Modells\n",
    "model = RandomForestClassifier()\n",
    "\n",
    "# Anpassung des Modells an die Trainingsdaten\n",
    "model.fit(X2_train, y2_train)\n",
    "\n",
    "# Vorhersagen auf den Testdaten\n",
    "y2_pred = model.predict(X2_test)"
   ]
  },
  {
   "cell_type": "code",
   "execution_count": null,
   "metadata": {},
   "outputs": [],
   "source": [
    "accuracy = accuracy_score(y2_test, y2_pred)\n",
    "print(f'Accuracy: {accuracy}')\n",
    "\n",
    "# Precision\n",
    "precision = precision_score(y2_test, y2_pred)\n",
    "\n",
    "# Recall\n",
    "recall = recall_score(y2_test, y2_pred)\n",
    "\n",
    "# F1-Score\n",
    "f1 = f1_score(y2_test, y2_pred)\n",
    "\n",
    "# AUC-ROC Score\n",
    "roc_auc = roc_auc_score(y2_test, y2_pred)\n",
    "\n",
    "# Zeige die Ergebnisse an\n",
    "print(f'Precision: {precision}')\n",
    "print(f'Recall: {recall}')\n",
    "print(f'F1-Score: {f1}')\n",
    "print(f'AUC-ROC Score: {roc_auc}')"
   ]
  },
  {
   "cell_type": "code",
   "execution_count": null,
   "metadata": {},
   "outputs": [],
   "source": [
    "# Darstellung der Confusion Matrix\n",
    "conf_matrix2 = confusion_matrix(y2_test, y2_pred)\n",
    "plt.figure(figsize=(8, 6))\n",
    "sns.heatmap(conf_matrix2, annot=True, fmt='d', cmap='Blues', cbar=False,\n",
    "            xticklabels=['Predicted 0', 'Predicted 1'],\n",
    "            yticklabels=['Actual 0', 'Actual 1'])\n",
    "plt.xlabel('Predicted')\n",
    "plt.ylabel('Actual')\n",
    "plt.title('Confusion Matrix')\n",
    "plt.show()"
   ]
  },
  {
   "cell_type": "markdown",
   "metadata": {},
   "source": [
    "Leider accuracy bei 1.0 gradient boost -> probieren:\n",
    "\n",
    "Validierungsmethoden:\n",
    "\n",
    "    Verwende korrekte Validierungsmethoden wie Kreuzvalidierung, um sicherzustellen, dass die Modellbewertung robust ist.\n",
    "    Achte darauf, dass du nicht überoptimiert hast (Overfitting auf Trainingsdaten).\n",
    "\n",
    "Imbalanced Classes:\n",
    "\n",
    "    Überprüfe, ob deine Klassen im Datensatz unausgewogen sind. Wenn es eine signifikante Klassenasymmetrie gibt, könnte die Accuracy allein täuschen.\n",
    "    Betrachte alternative Metriken wie Precision, Recall, F1-Score oder AUC-ROC, um die Leistung genauer zu bewerten.\n",
    "\n",
    "Feature Engineering:\n",
    "\n",
    "    Überlege, ob die verwendeten Features die relevanten Informationen enthalten. Manchmal könnte das Modell Overfitting auf bestimmte Muster in den Daten erleiden.\n",
    "\n",
    "Hyperparameter-Tuning:\n",
    "\n",
    "    Überprüfe die Hyperparameter des Modells. Es besteht die Möglichkeit, dass das Modell zu komplex ist und Overfitting auf den Trainingsdaten auftritt. Experimentiere mit verschiedenen Hyperparameter-Einstellungen.\n",
    "\n",
    "Gewichtung der Klassen:\n",
    "\n",
    "    Einige Klassifikationsalgorithmen, einschließlich Random Forest in scikit-learn, ermöglichen es dir, Klassen unterschiedlich zu gewichten. Du kannst das class_weight-Argument verwenden, um die Gewichtung der Klassen anzupassen. Ein höheres Gewicht für die Minderheitsklasse kann dazu beitragen, das Modell auf die selteneren Ereignisse zu fokussieren.\n",
    "\n",
    "python\n",
    "\n",
    "model = RandomForestClassifier(class_weight='balanced')"
   ]
  },
  {
   "cell_type": "markdown",
   "metadata": {},
   "source": [
    "### Feature importance:"
   ]
  },
  {
   "cell_type": "code",
   "execution_count": null,
   "metadata": {},
   "outputs": [],
   "source": [
    "# Feature Importance extrahieren\n",
    "feature_importance = model.feature_importances_\n",
    "\n",
    "# Die Namen der Features (Variablen)\n",
    "feature_names = X2.columns\n",
    "\n",
    "# Feature Importance in ein DataFrame umwandeln\n",
    "feature_importance_df = pd.DataFrame({'Feature': feature_names, 'Importance': feature_importance})\n",
    "\n",
    "# Sortiere das DataFrame nach Importance in absteigender Reihenfolge\n",
    "feature_importance_df = feature_importance_df.sort_values(by='Importance', ascending=False)\n",
    "\n",
    "# Plot der Feature Importance\n",
    "plt.figure(figsize=(10, 6))\n",
    "plt.barh(feature_importance_df['Feature'], feature_importance_df['Importance'])\n",
    "plt.xlabel('Importance')\n",
    "plt.ylabel('Feature')\n",
    "plt.title('Feature Importance in Random Forest')\n",
    "plt.show()"
   ]
  }
 ],
 "metadata": {
  "kernelspec": {
   "display_name": "Python 3",
   "language": "python",
   "name": "python3"
  },
  "language_info": {
   "codemirror_mode": {
    "name": "ipython",
    "version": 3
   },
   "file_extension": ".py",
   "mimetype": "text/x-python",
   "name": "python",
   "nbconvert_exporter": "python",
   "pygments_lexer": "ipython3",
   "version": "3.12.2"
  }
 },
 "nbformat": 4,
 "nbformat_minor": 2
}
