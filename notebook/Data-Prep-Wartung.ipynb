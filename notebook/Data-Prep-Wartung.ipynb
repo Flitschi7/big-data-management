{
 "cells": [
  {
   "cell_type": "code",
   "execution_count": 1,
   "metadata": {},
   "outputs": [],
   "source": [
    "#run this script to install all the required packages\n",
    "#!pip install -r requirements.txt"
   ]
  },
  {
   "cell_type": "code",
   "execution_count": 2,
   "metadata": {},
   "outputs": [],
   "source": [
    "import pandas as pd\n",
    "import numpy as np\n",
    "import matplotlib.pyplot as plt\n",
    "import seaborn as sns\n",
    "from sklearn.model_selection import train_test_split"
   ]
  },
  {
   "cell_type": "code",
   "execution_count": 3,
   "metadata": {},
   "outputs": [],
   "source": [
    "# Import Wartung.csv data\n",
    "\n",
    "data = pd.read_csv('wartung.csv', sep=';', decimal=',', encoding='utf-8')"
   ]
  },
  {
   "cell_type": "code",
   "execution_count": 4,
   "metadata": {},
   "outputs": [
    {
     "data": {
      "text/html": [
       "<div>\n",
       "<style scoped>\n",
       "    .dataframe tbody tr th:only-of-type {\n",
       "        vertical-align: middle;\n",
       "    }\n",
       "\n",
       "    .dataframe tbody tr th {\n",
       "        vertical-align: top;\n",
       "    }\n",
       "\n",
       "    .dataframe thead th {\n",
       "        text-align: right;\n",
       "    }\n",
       "</style>\n",
       "<table border=\"1\" class=\"dataframe\">\n",
       "  <thead>\n",
       "    <tr style=\"text-align: right;\">\n",
       "      <th></th>\n",
       "      <th>MesswertID</th>\n",
       "      <th>Druck</th>\n",
       "      <th>Temperatur</th>\n",
       "      <th>Vibration</th>\n",
       "      <th>Anzahlwarning</th>\n",
       "      <th>Ausschuss</th>\n",
       "      <th>Produktionsindex</th>\n",
       "    </tr>\n",
       "  </thead>\n",
       "  <tbody>\n",
       "    <tr>\n",
       "      <th>count</th>\n",
       "      <td>1095.000000</td>\n",
       "      <td>911.000000</td>\n",
       "      <td>9.170000e+02</td>\n",
       "      <td>9.150000e+02</td>\n",
       "      <td>1095.00000</td>\n",
       "      <td>803.000000</td>\n",
       "      <td>1095.000000</td>\n",
       "    </tr>\n",
       "    <tr>\n",
       "      <th>mean</th>\n",
       "      <td>13016.394521</td>\n",
       "      <td>3946.233329</td>\n",
       "      <td>2.581140e+04</td>\n",
       "      <td>5.926131e+04</td>\n",
       "      <td>2076.96347</td>\n",
       "      <td>2830.179328</td>\n",
       "      <td>89.797260</td>\n",
       "    </tr>\n",
       "    <tr>\n",
       "      <th>std</th>\n",
       "      <td>315.594610</td>\n",
       "      <td>54652.323534</td>\n",
       "      <td>3.518545e+05</td>\n",
       "      <td>6.459209e+05</td>\n",
       "      <td>34189.63800</td>\n",
       "      <td>39904.744680</td>\n",
       "      <td>6.074115</td>\n",
       "    </tr>\n",
       "    <tr>\n",
       "      <th>min</th>\n",
       "      <td>12478.000000</td>\n",
       "      <td>0.000000</td>\n",
       "      <td>0.000000e+00</td>\n",
       "      <td>0.000000e+00</td>\n",
       "      <td>1.00000</td>\n",
       "      <td>2.000000</td>\n",
       "      <td>80.000000</td>\n",
       "    </tr>\n",
       "    <tr>\n",
       "      <th>25%</th>\n",
       "      <td>12742.500000</td>\n",
       "      <td>47.619048</td>\n",
       "      <td>6.190476e+01</td>\n",
       "      <td>2.857143e+01</td>\n",
       "      <td>2.00000</td>\n",
       "      <td>3.000000</td>\n",
       "      <td>85.000000</td>\n",
       "    </tr>\n",
       "    <tr>\n",
       "      <th>50%</th>\n",
       "      <td>13016.000000</td>\n",
       "      <td>48.571429</td>\n",
       "      <td>6.285714e+01</td>\n",
       "      <td>3.809524e+01</td>\n",
       "      <td>5.00000</td>\n",
       "      <td>5.000000</td>\n",
       "      <td>90.000000</td>\n",
       "    </tr>\n",
       "    <tr>\n",
       "      <th>75%</th>\n",
       "      <td>13289.500000</td>\n",
       "      <td>61.904762</td>\n",
       "      <td>6.857143e+01</td>\n",
       "      <td>4.571429e+01</td>\n",
       "      <td>8.00000</td>\n",
       "      <td>7.000000</td>\n",
       "      <td>95.000000</td>\n",
       "    </tr>\n",
       "    <tr>\n",
       "      <th>max</th>\n",
       "      <td>13563.000000</td>\n",
       "      <td>848484.000000</td>\n",
       "      <td>5.465454e+06</td>\n",
       "      <td>8.486464e+06</td>\n",
       "      <td>566466.00000</td>\n",
       "      <td>566464.000000</td>\n",
       "      <td>100.000000</td>\n",
       "    </tr>\n",
       "  </tbody>\n",
       "</table>\n",
       "</div>"
      ],
      "text/plain": [
       "         MesswertID          Druck    Temperatur     Vibration  Anzahlwarning  \\\n",
       "count   1095.000000     911.000000  9.170000e+02  9.150000e+02     1095.00000   \n",
       "mean   13016.394521    3946.233329  2.581140e+04  5.926131e+04     2076.96347   \n",
       "std      315.594610   54652.323534  3.518545e+05  6.459209e+05    34189.63800   \n",
       "min    12478.000000       0.000000  0.000000e+00  0.000000e+00        1.00000   \n",
       "25%    12742.500000      47.619048  6.190476e+01  2.857143e+01        2.00000   \n",
       "50%    13016.000000      48.571429  6.285714e+01  3.809524e+01        5.00000   \n",
       "75%    13289.500000      61.904762  6.857143e+01  4.571429e+01        8.00000   \n",
       "max    13563.000000  848484.000000  5.465454e+06  8.486464e+06   566466.00000   \n",
       "\n",
       "           Ausschuss  Produktionsindex  \n",
       "count     803.000000       1095.000000  \n",
       "mean     2830.179328         89.797260  \n",
       "std     39904.744680          6.074115  \n",
       "min         2.000000         80.000000  \n",
       "25%         3.000000         85.000000  \n",
       "50%         5.000000         90.000000  \n",
       "75%         7.000000         95.000000  \n",
       "max    566464.000000        100.000000  "
      ]
     },
     "execution_count": 4,
     "metadata": {},
     "output_type": "execute_result"
    }
   ],
   "source": [
    "data.describe()"
   ]
  },
  {
   "cell_type": "markdown",
   "metadata": {},
   "source": [
    "Hier muss noch eine Datenbank angebunden werden, um die Daten zu speichern.\n",
    "\n",
    "Primary Key: ID, Datentypen müssen gegenenfalls noch angepasst werden nach der Preparation"
   ]
  },
  {
   "cell_type": "markdown",
   "metadata": {},
   "source": [
    "## Datenaufbereiten"
   ]
  },
  {
   "cell_type": "code",
   "execution_count": 5,
   "metadata": {},
   "outputs": [
    {
     "name": "stdout",
     "output_type": "stream",
     "text": [
      "Datentypen:\n",
      "<class 'pandas.core.frame.DataFrame'>\n",
      "RangeIndex: 1095 entries, 0 to 1094\n",
      "Data columns (total 10 columns):\n",
      " #   Column            Non-Null Count  Dtype  \n",
      "---  ------            --------------  -----  \n",
      " 0   MesswertID        1095 non-null   int64  \n",
      " 1   MaschinenID       1095 non-null   object \n",
      " 2   Datum             1095 non-null   object \n",
      " 3   Zeit              1095 non-null   object \n",
      " 4   Druck             911 non-null    float64\n",
      " 5   Temperatur        917 non-null    float64\n",
      " 6   Vibration         915 non-null    float64\n",
      " 7   Anzahlwarning     1095 non-null   int64  \n",
      " 8   Ausschuss         803 non-null    float64\n",
      " 9   Produktionsindex  1095 non-null   int64  \n",
      "dtypes: float64(4), int64(3), object(3)\n",
      "memory usage: 85.7+ KB\n",
      "None\n"
     ]
    }
   ],
   "source": [
    "#Datentypen ausgeben\n",
    "print(\"Datentypen:\")\n",
    "print(data.info())"
   ]
  },
  {
   "cell_type": "code",
   "execution_count": 6,
   "metadata": {},
   "outputs": [
    {
     "name": "stdout",
     "output_type": "stream",
     "text": [
      "Datentypen:\n",
      "MesswertID            0\n",
      "MaschinenID           0\n",
      "Datum                 0\n",
      "Zeit                  0\n",
      "Druck               184\n",
      "Temperatur          178\n",
      "Vibration           180\n",
      "Anzahlwarning         0\n",
      "Ausschuss           292\n",
      "Produktionsindex      0\n",
      "dtype: int64\n"
     ]
    }
   ],
   "source": [
    "#Anzahl missing data\n",
    "print(\"Datentypen:\")\n",
    "print(data.isnull().sum())"
   ]
  },
  {
   "cell_type": "code",
   "execution_count": 7,
   "metadata": {},
   "outputs": [
    {
     "name": "stdout",
     "output_type": "stream",
     "text": [
      "<class 'pandas.core.frame.DataFrame'>\n",
      "RangeIndex: 1095 entries, 0 to 1094\n",
      "Data columns (total 10 columns):\n",
      " #   Column            Non-Null Count  Dtype  \n",
      "---  ------            --------------  -----  \n",
      " 0   MesswertID        1095 non-null   int64  \n",
      " 1   MaschinenID       1095 non-null   object \n",
      " 2   Datum             1095 non-null   object \n",
      " 3   Zeit              1095 non-null   object \n",
      " 4   Druck             911 non-null    float64\n",
      " 5   Temperatur        917 non-null    float64\n",
      " 6   Vibration         915 non-null    float64\n",
      " 7   Anzahlwarning     1095 non-null   int64  \n",
      " 8   Ausschuss         803 non-null    float64\n",
      " 9   Produktionsindex  1095 non-null   int64  \n",
      "dtypes: float64(4), int64(3), object(3)\n",
      "memory usage: 85.7+ KB\n",
      "None\n"
     ]
    }
   ],
   "source": [
    "#Datensätze mit Duplikaten entfernen\n",
    "data.drop_duplicates(inplace=True)\n",
    "print(data.info())\n"
   ]
  },
  {
   "cell_type": "code",
   "execution_count": 8,
   "metadata": {},
   "outputs": [
    {
     "name": "stdout",
     "output_type": "stream",
     "text": [
      "   MesswertID MaschinenID       Datum   Zeit      Druck  Temperatur  \\\n",
      "0       12478          A1  01.02.2022  06:00  47.619048   61.904762   \n",
      "1       12479          A1  01.02.2022  06:05  48.571429   62.857143   \n",
      "2       12480          A1  01.02.2022  06:10  57.142857   76.190476   \n",
      "3       12481          A1  01.02.2022  06:15        NaN         NaN   \n",
      "4       12482          A1  01.02.2022  06:20        NaN         NaN   \n",
      "\n",
      "   Vibration  Anzahlwarning  Ausschuss  Produktionsindex  \n",
      "0  28.571429              3        2.0                85  \n",
      "1  47.619048              5        3.0                87  \n",
      "2  33.333333             12       11.0                91  \n",
      "3        NaN              2        NaN                84  \n",
      "4        NaN              2        NaN                85  \n"
     ]
    }
   ],
   "source": [
    "print(data.head())"
   ]
  },
  {
   "cell_type": "markdown",
   "metadata": {},
   "source": [
    "### Fehlerhafte Daten  beim Datum identifizieren und korrigieren"
   ]
  },
  {
   "cell_type": "code",
   "execution_count": 9,
   "metadata": {},
   "outputs": [
    {
     "name": "stdout",
     "output_type": "stream",
     "text": [
      "<class 'pandas.core.frame.DataFrame'>\n",
      "RangeIndex: 1095 entries, 0 to 1094\n",
      "Data columns (total 10 columns):\n",
      " #   Column            Non-Null Count  Dtype  \n",
      "---  ------            --------------  -----  \n",
      " 0   MesswertID        1095 non-null   int64  \n",
      " 1   MaschinenID       1095 non-null   object \n",
      " 2   Datum             1086 non-null   object \n",
      " 3   Zeit              1095 non-null   object \n",
      " 4   Druck             911 non-null    float64\n",
      " 5   Temperatur        917 non-null    float64\n",
      " 6   Vibration         915 non-null    float64\n",
      " 7   Anzahlwarning     1095 non-null   int64  \n",
      " 8   Ausschuss         803 non-null    float64\n",
      " 9   Produktionsindex  1095 non-null   int64  \n",
      "dtypes: float64(4), int64(3), object(3)\n",
      "memory usage: 85.7+ KB\n",
      "None\n"
     ]
    }
   ],
   "source": [
    "# Convert date column to datetime format if value is not usable as date format remove them\n",
    "data['Datum'] = pd.to_datetime(data['Datum'], format='%d.%m.%Y', errors='coerce').dt.date\n",
    "print(data.info())"
   ]
  },
  {
   "cell_type": "code",
   "execution_count": 10,
   "metadata": {},
   "outputs": [
    {
     "name": "stdout",
     "output_type": "stream",
     "text": [
      "   MesswertID MaschinenID       Datum   Zeit      Druck  Temperatur  \\\n",
      "0       12478          A1  2022-02-01  06:00  47.619048   61.904762   \n",
      "1       12479          A1  2022-02-01  06:05  48.571429   62.857143   \n",
      "2       12480          A1  2022-02-01  06:10  57.142857   76.190476   \n",
      "3       12481          A1  2022-02-01  06:15        NaN         NaN   \n",
      "4       12482          A1  2022-02-01  06:20        NaN         NaN   \n",
      "\n",
      "   Vibration  Anzahlwarning  Ausschuss  Produktionsindex  \n",
      "0  28.571429              3        2.0                85  \n",
      "1  47.619048              5        3.0                87  \n",
      "2  33.333333             12       11.0                91  \n",
      "3        NaN              2        NaN                84  \n",
      "4        NaN              2        NaN                85  \n"
     ]
    }
   ],
   "source": [
    "print(data.head())"
   ]
  },
  {
   "cell_type": "code",
   "execution_count": 11,
   "metadata": {},
   "outputs": [],
   "source": [
    "# Convert Zeit column to time format if value is not usable as time format remove them\n",
    "data['Zeit'] = pd.to_datetime(data['Zeit'], format='%H:%M', errors='coerce').dt.time\n",
    "d1 = data"
   ]
  },
  {
   "cell_type": "markdown",
   "metadata": {},
   "source": [
    "### Neue Spalten hinzufügen"
   ]
  },
  {
   "cell_type": "code",
   "execution_count": 12,
   "metadata": {},
   "outputs": [
    {
     "name": "stdout",
     "output_type": "stream",
     "text": [
      "   MesswertID MaschinenID       Datum      Zeit      Druck  Temperatur  \\\n",
      "0       12478          A1  2022-02-01  06:00:00  47.619048   61.904762   \n",
      "1       12479          A1  2022-02-01  06:05:00  48.571429   62.857143   \n",
      "2       12480          A1  2022-02-01  06:10:00  57.142857   76.190476   \n",
      "3       12481          A1  2022-02-01  06:15:00        NaN         NaN   \n",
      "4       12482          A1  2022-02-01  06:20:00        NaN         NaN   \n",
      "5       12483          A1  2022-02-01  06:25:00        NaN         NaN   \n",
      "6       12484          A1  2022-02-01  06:30:00        NaN         NaN   \n",
      "7       12485          A1  2022-02-01  06:35:00        NaN         NaN   \n",
      "8       12486          A1  2022-02-01  06:40:00        NaN         NaN   \n",
      "9       12487          A1  2022-02-01  06:45:00        NaN         NaN   \n",
      "\n",
      "   Vibration  Anzahlwarning  Ausschuss  Produktionsindex  Ausfall  \n",
      "0  28.571429              3        2.0                85        0  \n",
      "1  47.619048              5        3.0                87        0  \n",
      "2  33.333333             12       11.0                91        0  \n",
      "3        NaN              2        NaN                84        1  \n",
      "4        NaN              2        NaN                85        1  \n",
      "5        NaN              1        NaN                87        1  \n",
      "6        NaN              2        NaN                99        1  \n",
      "7        NaN              1        NaN                85        1  \n",
      "8        NaN              2        NaN                90        1  \n",
      "9        NaN              1        NaN                87        1  \n"
     ]
    }
   ],
   "source": [
    "# Add new Column 'Ausfall' with 0 or 1 for each row. Ausfall = 1 means Column Druck, Temperatur Vibration and Ausschuss are all NaN\n",
    "d1['Ausfall'] = np.where( d1['Druck'].isnull() & d1['Temperatur'].isnull() & d1['Vibration'].isnull() & d1['Ausschuss'].isnull(), 1, 0)\n",
    "print(d1.head(10))\n",
    "d2 = d1"
   ]
  },
  {
   "cell_type": "code",
   "execution_count": 13,
   "metadata": {},
   "outputs": [],
   "source": [
    "# if one of druck, vibration or temperatur is NaN and Ausfall = 0 then new column 'Error' = 1\n",
    "d2['Error'] = np.where((d2['Ausfall'] == 0) & (d2['Druck'].isnull() | d2['Temperatur'].isnull() | d2['Vibration'].isnull()), 1, 0)\n"
   ]
  },
  {
   "cell_type": "code",
   "execution_count": 14,
   "metadata": {},
   "outputs": [
    {
     "name": "stdout",
     "output_type": "stream",
     "text": [
      "Error\n",
      "0    1075\n",
      "1      20\n",
      "Name: count, dtype: int64\n"
     ]
    }
   ],
   "source": [
    "#count the number of errors\n",
    "print(d2['Error'].value_counts())"
   ]
  },
  {
   "cell_type": "code",
   "execution_count": 15,
   "metadata": {},
   "outputs": [
    {
     "name": "stdout",
     "output_type": "stream",
     "text": [
      "<class 'pandas.core.frame.DataFrame'>\n",
      "Index: 1075 entries, 0 to 1094\n",
      "Data columns (total 11 columns):\n",
      " #   Column            Non-Null Count  Dtype  \n",
      "---  ------            --------------  -----  \n",
      " 0   MesswertID        1075 non-null   int64  \n",
      " 1   MaschinenID       1075 non-null   object \n",
      " 2   Datum             1066 non-null   object \n",
      " 3   Zeit              1066 non-null   object \n",
      " 4   Druck             901 non-null    float64\n",
      " 5   Temperatur        901 non-null    float64\n",
      " 6   Vibration         901 non-null    float64\n",
      " 7   Anzahlwarning     1075 non-null   int64  \n",
      " 8   Ausschuss         785 non-null    float64\n",
      " 9   Produktionsindex  1075 non-null   int64  \n",
      " 10  Ausfall           1075 non-null   int32  \n",
      "dtypes: float64(4), int32(1), int64(3), object(3)\n",
      "memory usage: 96.6+ KB\n",
      "None\n"
     ]
    }
   ],
   "source": [
    "#20 errors können gelöscht werden, da unter 1% der Daten\n",
    "d2 = d2[d2['Error'] == 0]\n",
    "d2 = d2.drop(['Error'], axis=1)\n",
    "print(d2.info())\n"
   ]
  },
  {
   "cell_type": "code",
   "execution_count": 16,
   "metadata": {},
   "outputs": [
    {
     "name": "stdout",
     "output_type": "stream",
     "text": [
      "<class 'pandas.core.frame.DataFrame'>\n",
      "Index: 1066 entries, 0 to 1085\n",
      "Data columns (total 11 columns):\n",
      " #   Column            Non-Null Count  Dtype  \n",
      "---  ------            --------------  -----  \n",
      " 0   MesswertID        1066 non-null   int64  \n",
      " 1   MaschinenID       1066 non-null   object \n",
      " 2   Datum             1066 non-null   object \n",
      " 3   Zeit              1066 non-null   object \n",
      " 4   Druck             892 non-null    float64\n",
      " 5   Temperatur        892 non-null    float64\n",
      " 6   Vibration         892 non-null    float64\n",
      " 7   Anzahlwarning     1066 non-null   int64  \n",
      " 8   Ausschuss         776 non-null    float64\n",
      " 9   Produktionsindex  1066 non-null   int64  \n",
      " 10  Ausfall           1066 non-null   int32  \n",
      "dtypes: float64(4), int32(1), int64(3), object(3)\n",
      "memory usage: 95.8+ KB\n",
      "None\n"
     ]
    }
   ],
   "source": [
    "#In der Datumsspalte gibt es leere Werte da diese nicht in einem gültigen Format sind. Diese Zeilen können gelöscht werden, da sie nur 0,1% der Daten ausmachen (alternativ könnte man die Annahme treffen, dass diese, da am ende dem 08.02. zugeordnet werden können (input))\n",
    "d2 = d2.dropna(subset=['Datum'])\n",
    "print(d2.info())"
   ]
  },
  {
   "cell_type": "code",
   "execution_count": 17,
   "metadata": {},
   "outputs": [
    {
     "data": {
      "image/png": "[encoded data removed]",
      "text/plain": [
       "<Figure size 1500x1000 with 4 Axes>"
      ]
     },
     "metadata": {},
     "output_type": "display_data"
    }
   ],
   "source": [
    "#Ausreiser erkennen für Druck, Temperatur, Vibration und Ausschuss in einem boxplot mit seaborn\n",
    "fig, ax = plt.subplots(2,2, figsize=(15,10))\n",
    "sns.boxplot(x=d2['Druck'], ax=ax[0,0])\n",
    "sns.boxplot(x=d2['Temperatur'], ax=ax[0,1])\n",
    "sns.boxplot(x=d2['Vibration'], ax=ax[1,0])\n",
    "sns.boxplot(x=d2['Ausschuss'], ax=ax[1,1])\n",
    "plt.show()"
   ]
  },
  {
   "cell_type": "code",
   "execution_count": 18,
   "metadata": {},
   "outputs": [
    {
     "name": "stdout",
     "output_type": "stream",
     "text": [
      "<class 'pandas.core.frame.DataFrame'>\n",
      "Index: 1066 entries, 0 to 1085\n",
      "Data columns (total 11 columns):\n",
      " #   Column            Non-Null Count  Dtype  \n",
      "---  ------            --------------  -----  \n",
      " 0   MesswertID        1066 non-null   int64  \n",
      " 1   MaschinenID       1066 non-null   object \n",
      " 2   Datum             1066 non-null   object \n",
      " 3   Zeit              1066 non-null   object \n",
      " 4   Druck             892 non-null    float64\n",
      " 5   Temperatur        892 non-null    float64\n",
      " 6   Vibration         892 non-null    float64\n",
      " 7   Anzahlwarning     1066 non-null   int64  \n",
      " 8   Ausschuss         776 non-null    float64\n",
      " 9   Produktionsindex  1066 non-null   int64  \n",
      " 10  Ausfall           1066 non-null   int32  \n",
      "dtypes: float64(4), int32(1), int64(3), object(3)\n",
      "memory usage: 95.8+ KB\n"
     ]
    }
   ],
   "source": [
    "d2.describe()\n",
    "d2.info()"
   ]
  },
  {
   "cell_type": "code",
   "execution_count": 19,
   "metadata": {},
   "outputs": [
    {
     "name": "stdout",
     "output_type": "stream",
     "text": [
      "<class 'pandas.core.frame.DataFrame'>\n",
      "Index: 1054 entries, 0 to 1085\n",
      "Data columns (total 11 columns):\n",
      " #   Column            Non-Null Count  Dtype  \n",
      "---  ------            --------------  -----  \n",
      " 0   MesswertID        1054 non-null   int64  \n",
      " 1   MaschinenID       1054 non-null   object \n",
      " 2   Datum             1054 non-null   object \n",
      " 3   Zeit              1054 non-null   object \n",
      " 4   Druck             880 non-null    float64\n",
      " 5   Temperatur        880 non-null    float64\n",
      " 6   Vibration         880 non-null    float64\n",
      " 7   Anzahlwarning     1054 non-null   int64  \n",
      " 8   Ausschuss         764 non-null    float64\n",
      " 9   Produktionsindex  1054 non-null   int64  \n",
      " 10  Ausfall           1054 non-null   int32  \n",
      "dtypes: float64(4), int32(1), int64(3), object(3)\n",
      "memory usage: 94.7+ KB\n"
     ]
    }
   ],
   "source": [
    "#ausreißer entfernen druck über 100 aber leere behalten\n",
    "d2 = d2[(d2['Druck'] < 100) | (d2['Druck'].isnull())]\n",
    "d2.info()"
   ]
  },
  {
   "cell_type": "code",
   "execution_count": 20,
   "metadata": {},
   "outputs": [
    {
     "data": {
      "image/png": "[encoded data removed]",
      "text/plain": [
       "<Figure size 1500x1000 with 4 Axes>"
      ]
     },
     "metadata": {},
     "output_type": "display_data"
    }
   ],
   "source": [
    "#Ausreißer überprüfen\n",
    "fig, ax = plt.subplots(2,2, figsize=(15,10))\n",
    "sns.boxplot(x=d2['Druck'], ax=ax[0,0])\n",
    "sns.boxplot(x=d2['Temperatur'], ax=ax[0,1])\n",
    "sns.boxplot(x=d2['Vibration'], ax=ax[1,0])\n",
    "sns.boxplot(x=d2['Ausschuss'], ax=ax[1,1])\n",
    "plt.show()"
   ]
  },
  {
   "cell_type": "markdown",
   "metadata": {},
   "source": [
    "Gegebenenfalls können anstelle von Entfernen auch Werte durch synthetische Daten ersetzt werden"
   ]
  },
  {
   "cell_type": "code",
   "execution_count": 21,
   "metadata": {},
   "outputs": [],
   "source": [
    "#creating requirements.txt\n",
    "#!pip freeze > requirements.txt"
   ]
  },
  {
   "cell_type": "markdown",
   "metadata": {},
   "source": [
    "### Daten die NaN sind durch 0 ersetzen und in d3 speichern"
   ]
  },
  {
   "cell_type": "code",
   "execution_count": 22,
   "metadata": {},
   "outputs": [
    {
     "name": "stdout",
     "output_type": "stream",
     "text": [
      "<class 'pandas.core.frame.DataFrame'>\n",
      "Index: 1054 entries, 0 to 1085\n",
      "Data columns (total 11 columns):\n",
      " #   Column            Non-Null Count  Dtype  \n",
      "---  ------            --------------  -----  \n",
      " 0   MesswertID        1054 non-null   int64  \n",
      " 1   MaschinenID       1054 non-null   object \n",
      " 2   Datum             1054 non-null   object \n",
      " 3   Zeit              1054 non-null   object \n",
      " 4   Druck             880 non-null    float64\n",
      " 5   Temperatur        880 non-null    float64\n",
      " 6   Vibration         880 non-null    float64\n",
      " 7   Anzahlwarning     1054 non-null   int64  \n",
      " 8   Ausschuss         764 non-null    float64\n",
      " 9   Produktionsindex  1054 non-null   int64  \n",
      " 10  Ausfall           1054 non-null   int32  \n",
      "dtypes: float64(4), int32(1), int64(3), object(3)\n",
      "memory usage: 94.7+ KB\n"
     ]
    }
   ],
   "source": [
    "d2.info()"
   ]
  },
  {
   "cell_type": "code",
   "execution_count": 23,
   "metadata": {},
   "outputs": [],
   "source": [
    "d3 = d2[['Druck', 'Vibration', 'Temperatur', 'Ausschuss', 'Produktionsindex']].fillna(0)"
   ]
  },
  {
   "cell_type": "code",
   "execution_count": 24,
   "metadata": {},
   "outputs": [
    {
     "name": "stdout",
     "output_type": "stream",
     "text": [
      "<class 'pandas.core.frame.DataFrame'>\n",
      "Index: 1054 entries, 0 to 1085\n",
      "Data columns (total 5 columns):\n",
      " #   Column            Non-Null Count  Dtype  \n",
      "---  ------            --------------  -----  \n",
      " 0   Druck             1054 non-null   float64\n",
      " 1   Vibration         1054 non-null   float64\n",
      " 2   Temperatur        1054 non-null   float64\n",
      " 3   Ausschuss         1054 non-null   float64\n",
      " 4   Produktionsindex  1054 non-null   int64  \n",
      "dtypes: float64(4), int64(1)\n",
      "memory usage: 49.4 KB\n"
     ]
    }
   ],
   "source": [
    "d3.info()"
   ]
  },
  {
   "cell_type": "code",
   "execution_count": 25,
   "metadata": {},
   "outputs": [],
   "source": [
    "d4 = d2"
   ]
  },
  {
   "cell_type": "code",
   "execution_count": 26,
   "metadata": {},
   "outputs": [],
   "source": [
    "#irrelevante spalten entfernen\n",
    "d4 = d4.drop(['Datum', 'Zeit', 'Produktionsindex'], axis=1)"
   ]
  },
  {
   "cell_type": "code",
   "execution_count": 27,
   "metadata": {},
   "outputs": [],
   "source": [
    "#rollender mittelwert hinzufügen\n",
    "d4['Druck_rolling'] = d3['Druck'].rolling(window=12).mean()\n",
    "d4['Vibration_rolling'] = d3['Vibration'].rolling(window=12).mean()\n",
    "d4['Temperatur_rolling'] = d3['Temperatur'].rolling(window=12).mean()\n",
    "d4['Ausschuss_rolling'] = d3['Ausschuss'].rolling(window=12).mean()"
   ]
  },
  {
   "cell_type": "code",
   "execution_count": 28,
   "metadata": {},
   "outputs": [],
   "source": [
    "#rollende standardabweichung hinzufügen\n",
    "d4['Druck_std'] = d3['Druck'].rolling(window=12).std()\n",
    "d4['Vibration_std'] = d3['Vibration'].rolling(window=12).std()\n",
    "d4['Temperatur_std'] = d3['Temperatur'].rolling(window=12).std()\n",
    "d4['Ausschuss_std'] = d3['Ausschuss'].rolling(window=12).std()"
   ]
  },
  {
   "cell_type": "code",
   "execution_count": 29,
   "metadata": {},
   "outputs": [
    {
     "name": "stdout",
     "output_type": "stream",
     "text": [
      "<class 'pandas.core.frame.DataFrame'>\n",
      "Index: 1054 entries, 0 to 1085\n",
      "Data columns (total 10 columns):\n",
      " #   Column              Non-Null Count  Dtype  \n",
      "---  ------              --------------  -----  \n",
      " 0   Anzahlwarning       1054 non-null   int64  \n",
      " 1   Ausfall             1054 non-null   int32  \n",
      " 2   Druck_rolling       1043 non-null   float64\n",
      " 3   Vibration_rolling   1043 non-null   float64\n",
      " 4   Temperatur_rolling  1043 non-null   float64\n",
      " 5   Ausschuss_rolling   1043 non-null   float64\n",
      " 6   Druck_std           1043 non-null   float64\n",
      " 7   Vibration_std       1043 non-null   float64\n",
      " 8   Temperatur_std      1043 non-null   float64\n",
      " 9   Ausschuss_std       1043 non-null   float64\n",
      "dtypes: float64(8), int32(1), int64(1)\n",
      "memory usage: 86.5 KB\n"
     ]
    }
   ],
   "source": [
    "#andere spalten entfernen\n",
    "d4 = d4.drop(['Druck', 'Vibration', 'Temperatur', 'Ausschuss','MesswertID','MaschinenID',], axis=1)\n",
    "d4.info()"
   ]
  },
  {
   "cell_type": "code",
   "execution_count": 30,
   "metadata": {},
   "outputs": [],
   "source": [
    "#fill NaN values with 0\n",
    "d4 = d4.fillna(0)"
   ]
  },
  {
   "cell_type": "code",
   "execution_count": 31,
   "metadata": {},
   "outputs": [],
   "source": [
    "X = d4.drop('Ausfall', axis=1) \n",
    "y = d4['Ausfall']  "
   ]
  },
  {
   "cell_type": "code",
   "execution_count": 32,
   "metadata": {},
   "outputs": [],
   "source": [
    "#train test split 80/20\n",
    "X_train, X_test, y_train, y_test = train_test_split(X, y, test_size=0.2, random_state=42)\n"
   ]
  },
  {
   "cell_type": "code",
   "execution_count": 33,
   "metadata": {},
   "outputs": [
    {
     "name": "stderr",
     "output_type": "stream",
     "text": [
      "c:\\Users\\KaiRi\\AppData\\Local\\Programs\\Python\\Python39\\lib\\site-packages\\sklearn\\linear_model\\_logistic.py:460: ConvergenceWarning: lbfgs failed to converge (status=1):\n",
      "STOP: TOTAL NO. of ITERATIONS REACHED LIMIT.\n",
      "\n",
      "Increase the number of iterations (max_iter) or scale the data as shown in:\n",
      "    https://scikit-learn.org/stable/modules/preprocessing.html\n",
      "Please also refer to the documentation for alternative solver options:\n",
      "    https://scikit-learn.org/stable/modules/linear_model.html#logistic-regression\n",
      "  n_iter_i = _check_optimize_result(\n"
     ]
    },
    {
     "data": {
      "text/html": [
       "<style>#sk-container-id-1 {color: black;}#sk-container-id-1 pre{padding: 0;}#sk-container-id-1 div.sk-toggleable {background-color: white;}#sk-container-id-1 label.sk-toggleable__label {cursor: pointer;display: block;width: 100%;margin-bottom: 0;padding: 0.3em;box-sizing: border-box;text-align: center;}#sk-container-id-1 label.sk-toggleable__label-arrow:before {content: \"▸\";float: left;margin-right: 0.25em;color: #696969;}#sk-container-id-1 label.sk-toggleable__label-arrow:hover:before {color: black;}#sk-container-id-1 div.sk-estimator:hover label.sk-toggleable__label-arrow:before {color: black;}#sk-container-id-1 div.sk-toggleable__content {max-height: 0;max-width: 0;overflow: hidden;text-align: left;background-color: #f0f8ff;}#sk-container-id-1 div.sk-toggleable__content pre {margin: 0.2em;color: black;border-radius: 0.25em;background-color: #f0f8ff;}#sk-container-id-1 input.sk-toggleable__control:checked~div.sk-toggleable__content {max-height: 200px;max-width: 100%;overflow: auto;}#sk-container-id-1 input.sk-toggleable__control:checked~label.sk-toggleable__label-arrow:before {content: \"▾\";}#sk-container-id-1 div.sk-estimator input.sk-toggleable__control:checked~label.sk-toggleable__label {background-color: #d4ebff;}#sk-container-id-1 div.sk-label input.sk-toggleable__control:checked~label.sk-toggleable__label {background-color: #d4ebff;}#sk-container-id-1 input.sk-hidden--visually {border: 0;clip: rect(1px 1px 1px 1px);clip: rect(1px, 1px, 1px, 1px);height: 1px;margin: -1px;overflow: hidden;padding: 0;position: absolute;width: 1px;}#sk-container-id-1 div.sk-estimator {font-family: monospace;background-color: #f0f8ff;border: 1px dotted black;border-radius: 0.25em;box-sizing: border-box;margin-bottom: 0.5em;}#sk-container-id-1 div.sk-estimator:hover {background-color: #d4ebff;}#sk-container-id-1 div.sk-parallel-item::after {content: \"\";width: 100%;border-bottom: 1px solid gray;flex-grow: 1;}#sk-container-id-1 div.sk-label:hover label.sk-toggleable__label {background-color: #d4ebff;}#sk-container-id-1 div.sk-serial::before {content: \"\";position: absolute;border-left: 1px solid gray;box-sizing: border-box;top: 0;bottom: 0;left: 50%;z-index: 0;}#sk-container-id-1 div.sk-serial {display: flex;flex-direction: column;align-items: center;background-color: white;padding-right: 0.2em;padding-left: 0.2em;position: relative;}#sk-container-id-1 div.sk-item {position: relative;z-index: 1;}#sk-container-id-1 div.sk-parallel {display: flex;align-items: stretch;justify-content: center;background-color: white;position: relative;}#sk-container-id-1 div.sk-item::before, #sk-container-id-1 div.sk-parallel-item::before {content: \"\";position: absolute;border-left: 1px solid gray;box-sizing: border-box;top: 0;bottom: 0;left: 50%;z-index: -1;}#sk-container-id-1 div.sk-parallel-item {display: flex;flex-direction: column;z-index: 1;position: relative;background-color: white;}#sk-container-id-1 div.sk-parallel-item:first-child::after {align-self: flex-end;width: 50%;}#sk-container-id-1 div.sk-parallel-item:last-child::after {align-self: flex-start;width: 50%;}#sk-container-id-1 div.sk-parallel-item:only-child::after {width: 0;}#sk-container-id-1 div.sk-dashed-wrapped {border: 1px dashed gray;margin: 0 0.4em 0.5em 0.4em;box-sizing: border-box;padding-bottom: 0.4em;background-color: white;}#sk-container-id-1 div.sk-label label {font-family: monospace;font-weight: bold;display: inline-block;line-height: 1.2em;}#sk-container-id-1 div.sk-label-container {text-align: center;}#sk-container-id-1 div.sk-container {/* jupyter's `normalize.less` sets `[hidden] { display: none; }` but bootstrap.min.css set `[hidden] { display: none !important; }` so we also need the `!important` here to be able to override the default hidden behavior on the sphinx rendered scikit-learn.org. See: https://github.com/scikit-learn/scikit-learn/issues/21755 */display: inline-block !important;position: relative;}#sk-container-id-1 div.sk-text-repr-fallback {display: none;}</style><div id=\"sk-container-id-1\" class=\"sk-top-container\"><div class=\"sk-text-repr-fallback\"><pre>LogisticRegression()</pre><b>In a Jupyter environment, please rerun this cell to show the HTML representation or trust the notebook. <br />On GitHub, the HTML representation is unable to render, please try loading this page with nbviewer.org.</b></div><div class=\"sk-container\" hidden><div class=\"sk-item\"><div class=\"sk-estimator sk-toggleable\"><input class=\"sk-toggleable__control sk-hidden--visually\" id=\"sk-estimator-id-1\" type=\"checkbox\" checked><label for=\"sk-estimator-id-1\" class=\"sk-toggleable__label sk-toggleable__label-arrow\">LogisticRegression</label><div class=\"sk-toggleable__content\"><pre>LogisticRegression()</pre></div></div></div></div></div>"
      ],
      "text/plain": [
       "LogisticRegression()"
      ]
     },
     "execution_count": 33,
     "metadata": {},
     "output_type": "execute_result"
    }
   ],
   "source": [
    "#train logistic regression model\n",
    "from sklearn.linear_model import LogisticRegression\n",
    "logmodel = LogisticRegression()\n",
    "logmodel.fit(X_train,y_train)"
   ]
  },
  {
   "cell_type": "code",
   "execution_count": 34,
   "metadata": {},
   "outputs": [
    {
     "name": "stdout",
     "output_type": "stream",
     "text": [
      "              precision    recall  f1-score   support\n",
      "\n",
      "           0       0.91      0.90      0.91       175\n",
      "           1       0.55      0.58      0.57        36\n",
      "\n",
      "    accuracy                           0.85       211\n",
      "   macro avg       0.73      0.74      0.74       211\n",
      "weighted avg       0.85      0.85      0.85       211\n",
      "\n"
     ]
    }
   ],
   "source": [
    "#evaluate model\n",
    "predictions = logmodel.predict(X_test)\n",
    "from sklearn.metrics import classification_report\n",
    "print(classification_report(y_test,predictions))"
   ]
  },
  {
   "cell_type": "code",
   "execution_count": 35,
   "metadata": {},
   "outputs": [],
   "source": [
    "#predict the probability of a machine failure\n",
    "y_pred = logmodel.predict_proba(X_test)[:,1]"
   ]
  },
  {
   "cell_type": "code",
   "execution_count": 36,
   "metadata": {},
   "outputs": [
    {
     "data": {
      "text/plain": [
       "Error\n",
       "0    179\n",
       "1     32\n",
       "Name: count, dtype: int64"
      ]
     },
     "execution_count": 36,
     "metadata": {},
     "output_type": "execute_result"
    }
   ],
   "source": [
    "y_pred = pd.DataFrame(y_pred, columns=['Probability'])\n",
    "y_pred['Actual'] = y_test.values\n",
    "y_pred['Predicted'] = predictions\n",
    "y_pred['Error'] = np.where(y_pred['Actual'] == y_pred['Predicted'], 0, 1)\n",
    "y_pred['Error'].value_counts()"
   ]
  },
  {
   "cell_type": "code",
   "execution_count": 37,
   "metadata": {},
   "outputs": [
    {
     "data": {
      "text/html": [
       "<div>\n",
       "<style scoped>\n",
       "    .dataframe tbody tr th:only-of-type {\n",
       "        vertical-align: middle;\n",
       "    }\n",
       "\n",
       "    .dataframe tbody tr th {\n",
       "        vertical-align: top;\n",
       "    }\n",
       "\n",
       "    .dataframe thead th {\n",
       "        text-align: right;\n",
       "    }\n",
       "</style>\n",
       "<table border=\"1\" class=\"dataframe\">\n",
       "  <thead>\n",
       "    <tr style=\"text-align: right;\">\n",
       "      <th></th>\n",
       "      <th>Probability</th>\n",
       "      <th>Actual</th>\n",
       "      <th>Predicted</th>\n",
       "      <th>Error</th>\n",
       "    </tr>\n",
       "  </thead>\n",
       "  <tbody>\n",
       "    <tr>\n",
       "      <th>0</th>\n",
       "      <td>0.566747</td>\n",
       "      <td>0</td>\n",
       "      <td>1</td>\n",
       "      <td>1</td>\n",
       "    </tr>\n",
       "    <tr>\n",
       "      <th>1</th>\n",
       "      <td>0.007687</td>\n",
       "      <td>0</td>\n",
       "      <td>0</td>\n",
       "      <td>0</td>\n",
       "    </tr>\n",
       "    <tr>\n",
       "      <th>2</th>\n",
       "      <td>0.116438</td>\n",
       "      <td>0</td>\n",
       "      <td>0</td>\n",
       "      <td>0</td>\n",
       "    </tr>\n",
       "    <tr>\n",
       "      <th>3</th>\n",
       "      <td>0.002116</td>\n",
       "      <td>0</td>\n",
       "      <td>0</td>\n",
       "      <td>0</td>\n",
       "    </tr>\n",
       "    <tr>\n",
       "      <th>4</th>\n",
       "      <td>0.565067</td>\n",
       "      <td>1</td>\n",
       "      <td>1</td>\n",
       "      <td>0</td>\n",
       "    </tr>\n",
       "    <tr>\n",
       "      <th>...</th>\n",
       "      <td>...</td>\n",
       "      <td>...</td>\n",
       "      <td>...</td>\n",
       "      <td>...</td>\n",
       "    </tr>\n",
       "    <tr>\n",
       "      <th>206</th>\n",
       "      <td>0.819142</td>\n",
       "      <td>1</td>\n",
       "      <td>1</td>\n",
       "      <td>0</td>\n",
       "    </tr>\n",
       "    <tr>\n",
       "      <th>207</th>\n",
       "      <td>0.333923</td>\n",
       "      <td>1</td>\n",
       "      <td>0</td>\n",
       "      <td>1</td>\n",
       "    </tr>\n",
       "    <tr>\n",
       "      <th>208</th>\n",
       "      <td>0.835047</td>\n",
       "      <td>1</td>\n",
       "      <td>1</td>\n",
       "      <td>0</td>\n",
       "    </tr>\n",
       "    <tr>\n",
       "      <th>209</th>\n",
       "      <td>0.000008</td>\n",
       "      <td>0</td>\n",
       "      <td>0</td>\n",
       "      <td>0</td>\n",
       "    </tr>\n",
       "    <tr>\n",
       "      <th>210</th>\n",
       "      <td>0.003870</td>\n",
       "      <td>0</td>\n",
       "      <td>0</td>\n",
       "      <td>0</td>\n",
       "    </tr>\n",
       "  </tbody>\n",
       "</table>\n",
       "<p>211 rows × 4 columns</p>\n",
       "</div>"
      ],
      "text/plain": [
       "     Probability  Actual  Predicted  Error\n",
       "0       0.566747       0          1      1\n",
       "1       0.007687       0          0      0\n",
       "2       0.116438       0          0      0\n",
       "3       0.002116       0          0      0\n",
       "4       0.565067       1          1      0\n",
       "..           ...     ...        ...    ...\n",
       "206     0.819142       1          1      0\n",
       "207     0.333923       1          0      1\n",
       "208     0.835047       1          1      0\n",
       "209     0.000008       0          0      0\n",
       "210     0.003870       0          0      0\n",
       "\n",
       "[211 rows x 4 columns]"
      ]
     },
     "execution_count": 37,
     "metadata": {},
     "output_type": "execute_result"
    }
   ],
   "source": [
    "y_pred"
   ]
  },
  {
   "cell_type": "code",
   "execution_count": 38,
   "metadata": {},
   "outputs": [
    {
     "data": {
      "text/plain": [
       "Ausfall\n",
       "0    83.491461\n",
       "1    16.508539\n",
       "Name: proportion, dtype: float64"
      ]
     },
     "execution_count": 38,
     "metadata": {},
     "output_type": "execute_result"
    }
   ],
   "source": [
    "#testen wie die verteilung der zielvariable ist und in % anzeigen\n",
    "d4['Ausfall'].value_counts(normalize=True) * 100"
   ]
  },
  {
   "cell_type": "markdown",
   "metadata": {},
   "source": [
    "Eine Verteilung von 50/50 ist bestrebenswerte, jedoch wird diese nicht erreicht wodurch eine Methode zum Normalisieren angewendet werden müsste"
   ]
  },
  {
   "cell_type": "markdown",
   "metadata": {},
   "source": [
    "## Datenanalyse"
   ]
  },
  {
   "cell_type": "markdown",
   "metadata": {},
   "source": [
    "Datenanalyse mit Klassifikationsmodell auf die Zielvariable Ausfall"
   ]
  },
  {
   "cell_type": "markdown",
   "metadata": {},
   "source": [
    "Import benötigter Pakete:"
   ]
  },
  {
   "cell_type": "code",
   "execution_count": 39,
   "metadata": {},
   "outputs": [],
   "source": [
    "from sklearn.model_selection import train_test_split\n",
    "from sklearn.ensemble import HistGradientBoostingClassifier\n",
    "from sklearn.metrics import accuracy_score, confusion_matrix\n",
    "from sklearn.ensemble import RandomForestClassifier\n",
    "from sklearn.metrics import precision_score, recall_score, f1_score, roc_auc_score"
   ]
  },
  {
   "cell_type": "markdown",
   "metadata": {},
   "source": [
    "Aufteilung der Daten in Trainings- und Testdaten von d2:\n"
   ]
  },
  {
   "cell_type": "code",
   "execution_count": 40,
   "metadata": {},
   "outputs": [],
   "source": [
    "X1 = d2[['Druck', 'Vibration', 'Temperatur', 'Ausschuss', 'Produktionsindex']]\n",
    "y1 = d2['Ausfall']\n",
    "X1_train, X1_test, y1_train, y1_test = train_test_split(X1, y1, test_size=0.2, random_state=42)"
   ]
  },
  {
   "cell_type": "markdown",
   "metadata": {},
   "source": [
    "Aufteilung der Daten in Trainings- und Testdaten von d3:"
   ]
  },
  {
   "cell_type": "code",
   "execution_count": 41,
   "metadata": {},
   "outputs": [],
   "source": [
    "X2 = d3[['Druck', 'Vibration', 'Temperatur', 'Ausschuss', 'Produktionsindex']]\n",
    "y2 = d2['Ausfall']\n",
    "X2_train, X2_test, y2_train, y2_test = train_test_split(X2, y2, test_size=0.2, random_state=42)"
   ]
  },
  {
   "cell_type": "markdown",
   "metadata": {},
   "source": [
    "### Modellbildung mit Gradient boost:"
   ]
  },
  {
   "cell_type": "code",
   "execution_count": 42,
   "metadata": {},
   "outputs": [],
   "source": [
    "# Initialisierung des Modells\n",
    "model = HistGradientBoostingClassifier()\n",
    "\n",
    "# Anpassung des Modells an die Trainingsdaten\n",
    "model.fit(X1_train, y1_train)\n",
    "\n",
    "# Vorhersagen auf den Testdaten\n",
    "y1_pred = model.predict(X1_test)"
   ]
  },
  {
   "cell_type": "markdown",
   "metadata": {},
   "source": [
    "Bewertung des Modells Gradient Boost:"
   ]
  },
  {
   "cell_type": "code",
   "execution_count": 43,
   "metadata": {},
   "outputs": [
    {
     "name": "stdout",
     "output_type": "stream",
     "text": [
      "Accuracy: 1.0\n",
      "Precision: 1.0\n",
      "Recall: 1.0\n",
      "F1-Score: 1.0\n",
      "AUC-ROC Score: 1.0\n"
     ]
    }
   ],
   "source": [
    "accuracy = accuracy_score(y1_test, y1_pred)\n",
    "print(f'Accuracy: {accuracy}')\n",
    "\n",
    "# Precision\n",
    "precision = precision_score(y1_test, y1_pred)\n",
    "\n",
    "# Recall\n",
    "recall = recall_score(y1_test, y1_pred)\n",
    "\n",
    "# F1-Score\n",
    "f1 = f1_score(y1_test, y1_pred)\n",
    "\n",
    "# AUC-ROC Score\n",
    "roc_auc = roc_auc_score(y1_test, y1_pred)\n",
    "\n",
    "# Zeige die Ergebnisse an\n",
    "print(f'Precision: {precision}')\n",
    "print(f'Recall: {recall}')\n",
    "print(f'F1-Score: {f1}')\n",
    "print(f'AUC-ROC Score: {roc_auc}')"
   ]
  },
  {
   "cell_type": "code",
   "execution_count": 44,
   "metadata": {},
   "outputs": [
    {
     "data": {
      "image/png": "[encoded data removed]",
      "text/plain": [
       "<Figure size 800x600 with 1 Axes>"
      ]
     },
     "metadata": {},
     "output_type": "display_data"
    }
   ],
   "source": [
    "# Darstellung der Confusion Matrix\n",
    "conf_matrix1 = confusion_matrix(y1_test, y1_pred)\n",
    "plt.figure(figsize=(8, 6))\n",
    "sns.heatmap(conf_matrix1, annot=True, fmt='d', cmap='Blues', cbar=False,\n",
    "            xticklabels=['Predicted 0', 'Predicted 1'],\n",
    "            yticklabels=['Actual 0', 'Actual 1'])\n",
    "plt.xlabel('Predicted')\n",
    "plt.ylabel('Actual')\n",
    "plt.title('Confusion Matrix')\n",
    "plt.show()"
   ]
  },
  {
   "cell_type": "markdown",
   "metadata": {},
   "source": [
    "### Modellbildung mit Random Forrest: "
   ]
  },
  {
   "cell_type": "markdown",
   "metadata": {},
   "source": [
    "Hier wurden alle Daten durch 0 ersetzt weil weil das Modell nicht mit NaN werten arbeiten kann"
   ]
  },
  {
   "cell_type": "markdown",
   "metadata": {},
   "source": []
  },
  {
   "cell_type": "code",
   "execution_count": 45,
   "metadata": {},
   "outputs": [],
   "source": [
    "# Initialisierung des Modells\n",
    "model = RandomForestClassifier()\n",
    "\n",
    "# Anpassung des Modells an die Trainingsdaten\n",
    "model.fit(X2_train, y2_train)\n",
    "\n",
    "# Vorhersagen auf den Testdaten\n",
    "y2_pred = model.predict(X2_test)"
   ]
  },
  {
   "cell_type": "code",
   "execution_count": 46,
   "metadata": {},
   "outputs": [
    {
     "name": "stdout",
     "output_type": "stream",
     "text": [
      "Accuracy: 0.8672985781990521\n",
      "Precision: 0.5769230769230769\n",
      "Recall: 0.8333333333333334\n",
      "F1-Score: 0.6818181818181818\n",
      "AUC-ROC Score: 0.8538095238095239\n"
     ]
    }
   ],
   "source": [
    "accuracy = accuracy_score(y2_test, y2_pred)\n",
    "print(f'Accuracy: {accuracy}')\n",
    "\n",
    "# Precision\n",
    "precision = precision_score(y2_test, y2_pred)\n",
    "\n",
    "# Recall\n",
    "recall = recall_score(y2_test, y2_pred)\n",
    "\n",
    "# F1-Score\n",
    "f1 = f1_score(y2_test, y2_pred)\n",
    "\n",
    "# AUC-ROC Score\n",
    "roc_auc = roc_auc_score(y2_test, y2_pred)\n",
    "\n",
    "# Zeige die Ergebnisse an\n",
    "print(f'Precision: {precision}')\n",
    "print(f'Recall: {recall}')\n",
    "print(f'F1-Score: {f1}')\n",
    "print(f'AUC-ROC Score: {roc_auc}')"
   ]
  },
  {
   "cell_type": "code",
   "execution_count": 47,
   "metadata": {},
   "outputs": [
    {
     "data": {
      "image/png": "[encoded data removed]",
      "text/plain": [
       "<Figure size 800x600 with 1 Axes>"
      ]
     },
     "metadata": {},
     "output_type": "display_data"
    }
   ],
   "source": [
    "# Darstellung der Confusion Matrix\n",
    "conf_matrix2 = confusion_matrix(y2_test, y2_pred)\n",
    "plt.figure(figsize=(8, 6))\n",
    "sns.heatmap(conf_matrix2, annot=True, fmt='d', cmap='Blues', cbar=False,\n",
    "            xticklabels=['Predicted 0', 'Predicted 1'],\n",
    "            yticklabels=['Actual 0', 'Actual 1'])\n",
    "plt.xlabel('Predicted')\n",
    "plt.ylabel('Actual')\n",
    "plt.title('Confusion Matrix')\n",
    "plt.show()"
   ]
  },
  {
   "cell_type": "markdown",
   "metadata": {},
   "source": [
    "Leider accuracy bei 1.0 gradient boost -> probieren:\n",
    "\n",
    "Validierungsmethoden:\n",
    "\n",
    "    Verwende korrekte Validierungsmethoden wie Kreuzvalidierung, um sicherzustellen, dass die Modellbewertung robust ist.\n",
    "    Achte darauf, dass du nicht überoptimiert hast (Overfitting auf Trainingsdaten).\n",
    "\n",
    "Imbalanced Classes:\n",
    "\n",
    "    Überprüfe, ob deine Klassen im Datensatz unausgewogen sind. Wenn es eine signifikante Klassenasymmetrie gibt, könnte die Accuracy allein täuschen.\n",
    "    Betrachte alternative Metriken wie Precision, Recall, F1-Score oder AUC-ROC, um die Leistung genauer zu bewerten.\n",
    "\n",
    "Feature Engineering:\n",
    "\n",
    "    Überlege, ob die verwendeten Features die relevanten Informationen enthalten. Manchmal könnte das Modell Overfitting auf bestimmte Muster in den Daten erleiden.\n",
    "\n",
    "Hyperparameter-Tuning:\n",
    "\n",
    "    Überprüfe die Hyperparameter des Modells. Es besteht die Möglichkeit, dass das Modell zu komplex ist und Overfitting auf den Trainingsdaten auftritt. Experimentiere mit verschiedenen Hyperparameter-Einstellungen.\n",
    "\n",
    "Gewichtung der Klassen:\n",
    "\n",
    "    Einige Klassifikationsalgorithmen, einschließlich Random Forest in scikit-learn, ermöglichen es dir, Klassen unterschiedlich zu gewichten. Du kannst das class_weight-Argument verwenden, um die Gewichtung der Klassen anzupassen. Ein höheres Gewicht für die Minderheitsklasse kann dazu beitragen, das Modell auf die selteneren Ereignisse zu fokussieren.\n",
    "\n",
    "python\n",
    "\n",
    "model = RandomForestClassifier(class_weight='balanced')"
   ]
  },
  {
   "cell_type": "markdown",
   "metadata": {},
   "source": [
    "### Feature importance:"
   ]
  },
  {
   "cell_type": "code",
   "execution_count": 48,
   "metadata": {},
   "outputs": [
    {
     "data": {
      "image/png": "[encoded data removed]",
      "text/plain": [
       "<Figure size 1000x600 with 1 Axes>"
      ]
     },
     "metadata": {},
     "output_type": "display_data"
    }
   ],
   "source": [
    "# Feature Importance extrahieren\n",
    "feature_importance = model.feature_importances_\n",
    "\n",
    "# Die Namen der Features (Variablen)\n",
    "feature_names = X2.columns\n",
    "\n",
    "# Feature Importance in ein DataFrame umwandeln\n",
    "feature_importance_df = pd.DataFrame({'Feature': feature_names, 'Importance': feature_importance})\n",
    "\n",
    "# Sortiere das DataFrame nach Importance in absteigender Reihenfolge\n",
    "feature_importance_df = feature_importance_df.sort_values(by='Importance', ascending=False)\n",
    "\n",
    "# Plot der Feature Importance\n",
    "plt.figure(figsize=(10, 6))\n",
    "plt.barh(feature_importance_df['Feature'], feature_importance_df['Importance'])\n",
    "plt.xlabel('Importance')\n",
    "plt.ylabel('Feature')\n",
    "plt.title('Feature Importance in Random Forest')\n",
    "plt.show()"
   ]
  }
 ],
 "metadata": {
  "kernelspec": {
   "display_name": "Python 3",
   "language": "python",
   "name": "python3"
  },
  "language_info": {
   "codemirror_mode": {
    "name": "ipython",
    "version": 3
   },
   "file_extension": ".py",
   "mimetype": "text/x-python",
   "name": "python",
   "nbconvert_exporter": "python",
   "pygments_lexer": "ipython3",
   "version": "3.9.4"
  }
 },
 "nbformat": 4,
 "nbformat_minor": 2
}
