{
 "cells": [
  {
   "cell_type": "code",
   "execution_count": 4,
   "metadata": {},
   "outputs": [],
   "source": [
    "import pandas as pd\n",
    "import numpy as np\n",
    "import matplotlib.pyplot as plt\n",
    "import seaborn as sns"
   ]
  },
  {
   "cell_type": "code",
   "execution_count": 5,
   "metadata": {},
   "outputs": [],
   "source": [
    "# Import Wartung.csv data\n",
    "data = pd.read_csv('https://raw.githubusercontent.com/Flitschi7/big-data-management/main/data/wartung.csv?token=GHSAT0AAAAAACMYJ6LRPC2SO7J2X7Z4WCGUZNXWCHA', sep=';', decimal=',', encoding='latin-1')"
   ]
  },
  {
   "cell_type": "markdown",
   "metadata": {},
   "source": [
    "Hier muss noch eine Datenbank angebunden werden, um die Daten zu speichern."
   ]
  },
  {
   "cell_type": "markdown",
   "metadata": {},
   "source": [
    "## Datenaufbereiten"
   ]
  },
  {
   "cell_type": "code",
   "execution_count": 6,
   "metadata": {},
   "outputs": [
    {
     "name": "stdout",
     "output_type": "stream",
     "text": [
      "Datentypen:\n",
      "<class 'pandas.core.frame.DataFrame'>\n",
      "RangeIndex: 1095 entries, 0 to 1094\n",
      "Data columns (total 10 columns):\n",
      " #   Column            Non-Null Count  Dtype  \n",
      "---  ------            --------------  -----  \n",
      " 0   ï»¿MesswertID     1095 non-null   int64  \n",
      " 1   MaschinenID       1095 non-null   object \n",
      " 2   Datum             1095 non-null   object \n",
      " 3   Zeit              1095 non-null   object \n",
      " 4   Druck             911 non-null    float64\n",
      " 5   Temperatur        917 non-null    float64\n",
      " 6   Vibration         915 non-null    float64\n",
      " 7   Anzahlwarning     1095 non-null   int64  \n",
      " 8   Ausschuss         803 non-null    float64\n",
      " 9   Produktionsindex  1095 non-null   int64  \n",
      "dtypes: float64(4), int64(3), object(3)\n",
      "memory usage: 85.7+ KB\n",
      "None\n"
     ]
    }
   ],
   "source": [
    "#Datentypen ausgeben\n",
    "print(\"Datentypen:\")\n",
    "print(data.info())"
   ]
  },
  {
   "cell_type": "code",
   "execution_count": 7,
   "metadata": {},
   "outputs": [
    {
     "name": "stdout",
     "output_type": "stream",
     "text": [
      "Datentypen:\n",
      "ï»¿MesswertID         0\n",
      "MaschinenID           0\n",
      "Datum                 0\n",
      "Zeit                  0\n",
      "Druck               184\n",
      "Temperatur          178\n",
      "Vibration           180\n",
      "Anzahlwarning         0\n",
      "Ausschuss           292\n",
      "Produktionsindex      0\n",
      "dtype: int64\n"
     ]
    }
   ],
   "source": [
    "#Anzahl missing data\n",
    "print(\"Datentypen:\")\n",
    "print(data.isnull().sum())"
   ]
  },
  {
   "cell_type": "code",
   "execution_count": 8,
   "metadata": {},
   "outputs": [
    {
     "name": "stdout",
     "output_type": "stream",
     "text": [
      "<class 'pandas.core.frame.DataFrame'>\n",
      "RangeIndex: 1095 entries, 0 to 1094\n",
      "Data columns (total 10 columns):\n",
      " #   Column            Non-Null Count  Dtype  \n",
      "---  ------            --------------  -----  \n",
      " 0   ï»¿MesswertID     1095 non-null   int64  \n",
      " 1   MaschinenID       1095 non-null   object \n",
      " 2   Datum             1095 non-null   object \n",
      " 3   Zeit              1095 non-null   object \n",
      " 4   Druck             911 non-null    float64\n",
      " 5   Temperatur        917 non-null    float64\n",
      " 6   Vibration         915 non-null    float64\n",
      " 7   Anzahlwarning     1095 non-null   int64  \n",
      " 8   Ausschuss         803 non-null    float64\n",
      " 9   Produktionsindex  1095 non-null   int64  \n",
      "dtypes: float64(4), int64(3), object(3)\n",
      "memory usage: 85.7+ KB\n",
      "None\n"
     ]
    }
   ],
   "source": [
    "#Datensätze mit Duplikaten entfernen\n",
    "data.drop_duplicates(inplace=True)\n",
    "print(data.info())\n"
   ]
  },
  {
   "cell_type": "markdown",
   "metadata": {},
   "source": [
    "### Fehlerhafte Daten  beim Datum identifizieren und korrigieren"
   ]
  },
  {
   "cell_type": "code",
   "execution_count": 9,
   "metadata": {},
   "outputs": [],
   "source": [
    "# Convert date column to datetime format if value is not usable as date format remove row\n",
    "data['Datum'] = pd.to_datetime(data['Datum'], format='%d.%m.%Y', errors='coerce')"
   ]
  },
  {
   "cell_type": "code",
   "execution_count": 10,
   "metadata": {},
   "outputs": [],
   "source": [
    "# Convert time column to datetime format if value is not usable as time format remove row\n",
    "data['Zeit'] = pd.to_datetime(data['Zeit'], format='%H:%M:%S', errors='coerce')"
   ]
  },
  {
   "cell_type": "code",
   "execution_count": 11,
   "metadata": {},
   "outputs": [],
   "source": [
    "d1 = data"
   ]
  },
  {
   "cell_type": "markdown",
   "metadata": {},
   "source": [
    "### Neue Spalten hinzufügen"
   ]
  },
  {
   "cell_type": "code",
   "execution_count": 12,
   "metadata": {},
   "outputs": [
    {
     "name": "stdout",
     "output_type": "stream",
     "text": [
      "   ï»¿MesswertID MaschinenID      Datum Zeit      Druck  Temperatur  \\\n",
      "0          12478          A1 2022-02-01  NaT  47.619048   61.904762   \n",
      "1          12479          A1 2022-02-01  NaT  48.571429   62.857143   \n",
      "2          12480          A1 2022-02-01  NaT  57.142857   76.190476   \n",
      "3          12481          A1 2022-02-01  NaT        NaN         NaN   \n",
      "4          12482          A1 2022-02-01  NaT        NaN         NaN   \n",
      "5          12483          A1 2022-02-01  NaT        NaN         NaN   \n",
      "6          12484          A1 2022-02-01  NaT        NaN         NaN   \n",
      "7          12485          A1 2022-02-01  NaT        NaN         NaN   \n",
      "8          12486          A1 2022-02-01  NaT        NaN         NaN   \n",
      "9          12487          A1 2022-02-01  NaT        NaN         NaN   \n",
      "\n",
      "   Vibration  Anzahlwarning  Ausschuss  Produktionsindex  Ausfall  \n",
      "0  28.571429              3        2.0                85        0  \n",
      "1  47.619048              5        3.0                87        0  \n",
      "2  33.333333             12       11.0                91        0  \n",
      "3        NaN              2        NaN                84        1  \n",
      "4        NaN              2        NaN                85        1  \n",
      "5        NaN              1        NaN                87        1  \n",
      "6        NaN              2        NaN                99        1  \n",
      "7        NaN              1        NaN                85        1  \n",
      "8        NaN              2        NaN                90        1  \n",
      "9        NaN              1        NaN                87        1  \n"
     ]
    }
   ],
   "source": [
    "# Add new Column 'Ausfall' with 0 or 1 for each row. Ausfall = 1 means Column Druck, Temperatur Vibration and Ausschuss are all NaN\n",
    "d1['Ausfall'] = np.where( d1['Druck'].isnull() & d1['Temperatur'].isnull() & d1['Vibration'].isnull() & d1['Ausschuss'].isnull(), 1, 0)\n",
    "print(d1.head(10))\n",
    "d2 = d1"
   ]
  },
  {
   "cell_type": "markdown",
   "metadata": {},
   "source": [
    "### Fehlende Daten ergänzen"
   ]
  },
  {
   "cell_type": "code",
   "execution_count": 13,
   "metadata": {},
   "outputs": [],
   "source": [
    "# If Ausfall = 1 and 'Druck' is missing then \"Error\"\n",
    "d2['Druck'] = np.where( d2['Ausfall'] == 1 & d2['Druck'].isnull(), \"Error\", d2['Druck'])\n",
    "d3 = d2\n"
   ]
  },
  {
   "cell_type": "code",
   "execution_count": 14,
   "metadata": {},
   "outputs": [],
   "source": [
    "# If Ausfall = 1 and 'Temperatur' is missing then \"Error\"\n",
    "d3['Temperatur'] = np.where( d3['Ausfall'] == 1 & d3['Temperatur'].isnull(), \"Error\", d3['Temperatur'])\n",
    "d4 = d3"
   ]
  },
  {
   "cell_type": "code",
   "execution_count": 15,
   "metadata": {},
   "outputs": [],
   "source": [
    "# If Ausfall = 1 and 'Vibration' is missing then \"Error\"\n",
    "d4['Vibration'] = np.where( d4['Ausfall'] == 1 & d4['Vibration'].isnull(), \"Error\", d4['Vibration'])\n",
    "d5 = d4"
   ]
  },
  {
   "cell_type": "code",
   "execution_count": 16,
   "metadata": {},
   "outputs": [],
   "source": [
    "# If Ausfall = 1 and 'Ausschuss' is missing then \"Error\"\n",
    "d5['Ausschuss'] = np.where( d5['Ausfall'] == 1 & d5['Ausschuss'].isnull(), \"Error\", d5['Ausschuss'])"
   ]
  },
  {
   "cell_type": "markdown",
   "metadata": {},
   "source": [
    "Gegebenenfalls können anstelle von Entfernen auch Werte durch synthetische Daten ersetzt werden"
   ]
  },
  {
   "cell_type": "code",
   "execution_count": 17,
   "metadata": {},
   "outputs": [],
   "source": [
    "# Remove all rows with Druck, Temperatur, Vibration or Ausschuss = Error\n",
    "d5 = d5[d5.Druck != 'Error']\n",
    "d5 = d5[d5.Temperatur != 'Error']\n",
    "d5 = d5[d5.Vibration != 'Error']\n",
    "d5 = d5[d5.Ausschuss != 'Error']"
   ]
  }
 ],
 "metadata": {
  "kernelspec": {
   "display_name": "Python 3",
   "language": "python",
   "name": "python3"
  },
  "language_info": {
   "codemirror_mode": {
    "name": "ipython",
    "version": 3
   },
   "file_extension": ".py",
   "mimetype": "text/x-python",
   "name": "python",
   "nbconvert_exporter": "python",
   "pygments_lexer": "ipython3",
   "version": "3.11.3"
  }
 },
 "nbformat": 4,
 "nbformat_minor": 2
}
