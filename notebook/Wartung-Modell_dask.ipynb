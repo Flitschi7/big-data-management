{
 "cells": [
  {
   "cell_type": "code",
   "execution_count": 3,
   "metadata": {},
   "outputs": [],
   "source": [
    "#!pip install -r requirements.txt"
   ]
  },
  {
   "cell_type": "code",
   "execution_count": 4,
   "metadata": {},
   "outputs": [
    {
     "name": "stderr",
     "output_type": "stream",
     "text": [
      "C:\\Users\\User\\AppData\\Local\\Temp\\ipykernel_25056\\229508138.py:3: DeprecationWarning: The current Dask DataFrame implementation is deprecated. \n",
      "In a future release, Dask DataFrame will use a new implementation that\n",
      "contains several improvements including a logical query planning.\n",
      "The user-facing DataFrame API will remain unchanged.\n",
      "\n",
      "The new implementation is already available and can be enabled by\n",
      "installing the dask-expr library:\n",
      "\n",
      "    $ pip install dask-expr\n",
      "\n",
      "and turning the query planning option on:\n",
      "\n",
      "    >>> import dask\n",
      "    >>> dask.config.set({'dataframe.query-planning': True})\n",
      "    >>> import dask.dataframe as dd\n",
      "\n",
      "API documentation for the new implementation is available at\n",
      "https://docs.dask.org/en/stable/dask-expr-api.html\n",
      "\n",
      "Any feedback can be reported on the Dask issue tracker\n",
      "https://github.com/dask/dask/issues \n",
      "\n",
      "To disable this warning in the future, set dask config:\n",
      "\n",
      "    # via Python\n",
      "    >>> dask.config.set({'dataframe.query-planning-warning': False})\n",
      "\n",
      "    # via CLI\n",
      "    dask config set dataframe.query-planning-warning False\n",
      "\n",
      "\n",
      "  import dask.dataframe as dd\n"
     ]
    }
   ],
   "source": [
    "import pandas as pd\n",
    "import dask\n",
    "import dask.dataframe as dd\n",
    "import numpy as np\n",
    "import matplotlib.pyplot as plt\n",
    "import seaborn as sns\n",
    "import mysql.connector\n",
    "from sklearn.metrics import confusion_matrix"
   ]
  },
  {
   "cell_type": "markdown",
   "metadata": {},
   "source": [
    "## Daten aus Datenbank laden"
   ]
  },
  {
   "cell_type": "code",
   "execution_count": 5,
   "metadata": {},
   "outputs": [],
   "source": [
    "#variablen für die Datenbankverbindung\n",
    "benutzer = \"production1\"\n",
    "passwort = \"production42!\"\n",
    "server = \"195.20.227.20\"\n",
    "db = \"production1\"\n",
    "port = 32771\n",
    "#Datenbankverbindung\n",
    "datenbank = mysql.connector.connect(\n",
    "    host = server,\n",
    "    user = benutzer,\n",
    "    password = passwort,\n",
    "    database = db,\n",
    "    port = port,\n",
    "    auth_plugin = 'mysql_native_password',\n",
    "    connect_timeout=100000\n",
    ")\n"
   ]
  },
  {
   "cell_type": "code",
   "execution_count": 6,
   "metadata": {},
   "outputs": [
    {
     "name": "stderr",
     "output_type": "stream",
     "text": [
      "C:\\Users\\User\\AppData\\Local\\Temp\\ipykernel_25056\\2432445196.py:2: UserWarning: pandas only supports SQLAlchemy connectable (engine/connection) or database string URI or sqlite3 DBAPI2 connection. Other DBAPI2 objects are not tested. Please consider using SQLAlchemy.\n",
      "  data = pd.read_sql_query(\"SELECT * FROM wartung\", datenbank)\n"
     ]
    }
   ],
   "source": [
    "#laden der strukturierten Daten aus Datenbank und speichern in Dataframe\n",
    "data = pd.read_sql_query(\"SELECT * FROM wartung\", datenbank)"
   ]
  },
  {
   "cell_type": "code",
   "execution_count": 7,
   "metadata": {},
   "outputs": [],
   "source": [
    "data =dd.from_pandas(data, npartitions=8)"
   ]
  },
  {
   "cell_type": "markdown",
   "metadata": {},
   "source": [
    "## Daten aufbereiten"
   ]
  },
  {
   "cell_type": "code",
   "execution_count": 8,
   "metadata": {},
   "outputs": [
    {
     "name": "stdout",
     "output_type": "stream",
     "text": [
      "<class 'dask.dataframe.core.DataFrame'>\n",
      "Columns: 10 entries, MesswertID to Produktionsindex\n",
      "dtypes: float64(4), int64(3), string(3)None\n"
     ]
    }
   ],
   "source": [
    "#Datentypen ausgeben\n",
    "print(data.info())"
   ]
  },
  {
   "cell_type": "code",
   "execution_count": 9,
   "metadata": {},
   "outputs": [
    {
     "name": "stdout",
     "output_type": "stream",
     "text": [
      "Datentypen:\n",
      "Dask Series Structure:\n",
      "npartitions=1\n",
      "Anzahlwarning    int64\n",
      "Zeit               ...\n",
      "dtype: int64\n",
      "Dask Name: to_pyarrow_string, 6 graph layers\n"
     ]
    }
   ],
   "source": [
    "#Anzahl Nullwerte\n",
    "print(\"Datentypen:\")\n",
    "print(data.isnull().sum())"
   ]
  },
  {
   "cell_type": "code",
   "execution_count": 10,
   "metadata": {},
   "outputs": [
    {
     "name": "stdout",
     "output_type": "stream",
     "text": [
      "<class 'dask.dataframe.core.DataFrame'>\n",
      "Columns: 10 entries, MesswertID to Produktionsindex\n",
      "dtypes: float64(4), int64(3), string(3)None\n"
     ]
    }
   ],
   "source": [
    "#Datensätze mit Duplikaten entfernen\n",
    "data.drop_duplicates()\n",
    "print(data.info())\n"
   ]
  },
  {
   "cell_type": "code",
   "execution_count": 11,
   "metadata": {},
   "outputs": [
    {
     "name": "stdout",
     "output_type": "stream",
     "text": [
      "   MesswertID MaschinenID       Datum   Zeit    Druck  Temperatur  Vibration  \\\n",
      "0       12478          A1  01.02.2022  06:00  47.6190     61.9048    28.5714   \n",
      "1       12479          A1  01.02.2022  06:05  48.5714     62.8571    47.6190   \n",
      "2       12480          A1  01.02.2022  06:10  57.1429     76.1905    33.3333   \n",
      "3       12481          A1  01.02.2022  06:15   0.0000      0.0000     0.0000   \n",
      "4       12482          A1  01.02.2022  06:20   0.0000      0.0000     0.0000   \n",
      "\n",
      "   Anzahlwarning  Ausschuss  Produktionsindex  \n",
      "0              3        2.0                85  \n",
      "1              5        3.0                87  \n",
      "2             12       11.0                91  \n",
      "3              2        0.0                84  \n",
      "4              2        0.0                85  \n"
     ]
    }
   ],
   "source": [
    "print(data.head())"
   ]
  },
  {
   "cell_type": "markdown",
   "metadata": {},
   "source": [
    "### Fehlerhafte Daten  beim Datum identifizieren und korrigieren"
   ]
  },
  {
   "cell_type": "code",
   "execution_count": 12,
   "metadata": {},
   "outputs": [
    {
     "name": "stdout",
     "output_type": "stream",
     "text": [
      "<class 'dask.dataframe.core.DataFrame'>\n",
      "Columns: 10 entries, MesswertID to Produktionsindex\n",
      "dtypes: float64(4), int64(3), string(3)None\n"
     ]
    }
   ],
   "source": [
    "#konvertieren von Datum in datetime und entfernen von Uhrzeit und Zeitzone\n",
    "data['Datum'] = dd.to_datetime(data['Datum'], format='%d.%m.%Y', errors='coerce').dt.date\n",
    "print(data.info())"
   ]
  },
  {
   "cell_type": "code",
   "execution_count": 13,
   "metadata": {},
   "outputs": [],
   "source": [
    "#konvertieren von Zeit in Datetime, wenn Wert nicht nutzbar dann NaN\n",
    "data['Zeit'] = dd.to_datetime(data['Zeit'], format='%H:%M', errors='coerce').dt.time\n",
    "d1 = data.copy()"
   ]
  },
  {
   "cell_type": "markdown",
   "metadata": {},
   "source": [
    "### Neue Ausfall Spalte hinzufügen"
   ]
  },
  {
   "cell_type": "code",
   "execution_count": 14,
   "metadata": {},
   "outputs": [],
   "source": [
    "#neue Spalte Ausfall hinzufügen\n",
    "d1 = d1.assign(Ausfall=lambda x: ((x['Druck'] == 0) & (x['Temperatur'] == 0) & (x['Vibration'] == 0) & (x['Ausschuss'] == 0)).astype(int))\n",
    "d2 = d1.copy()"
   ]
  },
  {
   "cell_type": "code",
   "execution_count": 15,
   "metadata": {},
   "outputs": [
    {
     "name": "stdout",
     "output_type": "stream",
     "text": [
      "MesswertID                    int64\n",
      "MaschinenID         string[pyarrow]\n",
      "Datum               string[pyarrow]\n",
      "Zeit                string[pyarrow]\n",
      "Druck                       float64\n",
      "Temperatur                  float64\n",
      "Vibration                   float64\n",
      "Anzahlwarning                 int64\n",
      "Ausschuss                   float64\n",
      "Produktionsindex              int64\n",
      "Ausfall                       int32\n",
      "dtype: object\n"
     ]
    }
   ],
   "source": [
    "print(d2.dtypes)"
   ]
  },
  {
   "cell_type": "code",
   "execution_count": 16,
   "metadata": {},
   "outputs": [
    {
     "name": "stdout",
     "output_type": "stream",
     "text": [
      "Error\n",
      "0    1065\n",
      "1      30\n",
      "Name: count, dtype: int64\n"
     ]
    }
   ],
   "source": [
    "#Neue Spalte für fehlerhafte Werte hinzufügen\n",
    "d2['Error'] = (\n",
    "    (d2['Ausfall'] == 0) & \n",
    "    ((d2['Druck'] == 0) | (d2['Temperatur'] == 0) | (d2['Vibration'] == 0))\n",
    ").astype(int)\n",
    "\n",
    "# Anzahl der fehlerhaften Werte berechnen\n",
    "error_counts = d2['Error'].value_counts().compute()\n",
    "\n",
    "# Ausgabe der Anzahl der fehlerhaften Werte\n",
    "print(error_counts)\n"
   ]
  },
  {
   "cell_type": "code",
   "execution_count": 17,
   "metadata": {},
   "outputs": [
    {
     "name": "stdout",
     "output_type": "stream",
     "text": [
      "<class 'pandas.core.frame.DataFrame'>\n",
      "Index: 1065 entries, 0 to 1094\n",
      "Data columns (total 11 columns):\n",
      " #   Column            Non-Null Count  Dtype  \n",
      "---  ------            --------------  -----  \n",
      " 0   MesswertID        1065 non-null   int64  \n",
      " 1   MaschinenID       1065 non-null   string \n",
      " 2   Datum             1056 non-null   string \n",
      " 3   Zeit              1056 non-null   string \n",
      " 4   Druck             1065 non-null   float64\n",
      " 5   Temperatur        1065 non-null   float64\n",
      " 6   Vibration         1065 non-null   float64\n",
      " 7   Anzahlwarning     1065 non-null   int64  \n",
      " 8   Ausschuss         1065 non-null   float64\n",
      " 9   Produktionsindex  1065 non-null   int64  \n",
      " 10  Ausfall           1065 non-null   int32  \n",
      "dtypes: float64(4), int32(1), int64(3), string(3)\n",
      "memory usage: 116.4 KB\n",
      "None\n"
     ]
    }
   ],
   "source": [
    "#30 errors können gelöscht werden, da unter 1% der Daten\n",
    "d2_filtered = d2[d2['Error'] == 0]\n",
    "columns_to_keep = [col for col in d2_filtered.columns if col != 'Error']\n",
    "\n",
    "d2 = d2_filtered[columns_to_keep]\n",
    "\n",
    "\n",
    "print(d2.compute().info())\n"
   ]
  },
  {
   "cell_type": "code",
   "execution_count": 18,
   "metadata": {},
   "outputs": [
    {
     "name": "stdout",
     "output_type": "stream",
     "text": [
      "<class 'dask.dataframe.core.DataFrame'>\n"
     ]
    }
   ],
   "source": [
    "#In der Datumsspalte gibt es leere Werte da diese nicht in einem gültigen Format sind. Diese Zeilen können gelöscht werden, da sie nur 0,1% der Daten ausmachen (alternativ könnte man die Annahme treffen, dass diese, da am ende dem 08.02. zugeordnet werden können (input))\n",
    "def filter_non_na(d2):\n",
    "    return d2[d2['Datum'].notna()]\n",
    "\n",
    "#'map_partitions' verwenden, um die Funktion auf jede Partition des Dask DataFrames anzuwenden\n",
    "d2_filtered = d2.map_partitions(filter_non_na)\n",
    "\n",
    "#Überprüfen des Typs nach dem Filtern\n",
    "print(type(d2_filtered))"
   ]
  },
  {
   "cell_type": "code",
   "execution_count": 19,
   "metadata": {},
   "outputs": [
    {
     "data": {
      "image/png": "[encoded data removed]",
      "text/plain": [
       "<Figure size 1500x1000 with 4 Axes>"
      ]
     },
     "metadata": {},
     "output_type": "display_data"
    }
   ],
   "source": [
    "#Die spalten in Pandas Serie umwandeln damit sns boxplot funktioniert\n",
    "druck = d2['Druck'].compute()\n",
    "temperatur = d2['Temperatur'].compute()\n",
    "vibration = d2['Vibration'].compute()\n",
    "ausschuss = d2['Ausschuss'].compute()\n",
    "\n",
    "#Boxplots für die Spalten erstellen\n",
    "fig, ax = plt.subplots(2, 2, figsize=(15, 10))\n",
    "sns.boxplot(x=druck, ax=ax[0, 0])\n",
    "sns.boxplot(x=temperatur, ax=ax[0, 1])\n",
    "sns.boxplot(x=vibration, ax=ax[1, 0])\n",
    "sns.boxplot(x=ausschuss, ax=ax[1, 1])\n",
    "\n",
    "plt.show()\n"
   ]
  },
  {
   "cell_type": "code",
   "execution_count": 20,
   "metadata": {},
   "outputs": [
    {
     "name": "stdout",
     "output_type": "stream",
     "text": [
      "<class 'dask.dataframe.core.DataFrame'>\n"
     ]
    }
   ],
   "source": [
    "print(type(d2))"
   ]
  },
  {
   "cell_type": "code",
   "execution_count": 21,
   "metadata": {},
   "outputs": [],
   "source": [
    "#Ausreißer entfernen\n",
    "condition = (d2['Druck'] < 100) | (d2['Druck'].isna())\n",
    "\n",
    "#Filtern des DataFrames basierend auf der Bedingung\n",
    "d2_filtered = d2[condition]\n",
    "d2 = d2_filtered.copy()\n"
   ]
  },
  {
   "cell_type": "code",
   "execution_count": 22,
   "metadata": {},
   "outputs": [
    {
     "data": {
      "image/png": "[encoded data removed]",
      "text/plain": [
       "<Figure size 1500x1000 with 4 Axes>"
      ]
     },
     "metadata": {},
     "output_type": "display_data"
    }
   ],
   "source": [
    "#Ausreißer überprüfen\n",
    "fig, ax = plt.subplots(2,2, figsize=(15,10))\n",
    "sns.boxplot(x=d2['Druck'], ax=ax[0,0])\n",
    "sns.boxplot(x=d2['Temperatur'], ax=ax[0,1])\n",
    "sns.boxplot(x=d2['Vibration'], ax=ax[1,0])\n",
    "sns.boxplot(x=d2['Ausschuss'], ax=ax[1,1])\n",
    "plt.show()"
   ]
  },
  {
   "cell_type": "code",
   "execution_count": 23,
   "metadata": {},
   "outputs": [],
   "source": [
    "d4 = d2.copy()\n",
    "d3 = d2.copy()"
   ]
  },
  {
   "cell_type": "code",
   "execution_count": 24,
   "metadata": {},
   "outputs": [],
   "source": [
    "#irrelevante spalten entfernen\n",
    "spalten_zu_behalten = [col for col in d4.columns if col not in ['Datum', 'Zeit', 'Produktionsindex', 'MaschinenID', 'MesswertID']]\n",
    "\n",
    "# Filtern des DataFrames, um nur die gewünschten Spalten zu behalten\n",
    "d4 = d4[spalten_zu_behalten]\n"
   ]
  },
  {
   "cell_type": "code",
   "execution_count": 25,
   "metadata": {},
   "outputs": [
    {
     "name": "stdout",
     "output_type": "stream",
     "text": [
      "<class 'dask.dataframe.core.DataFrame'>\n",
      "Columns: 6 entries, Druck to Ausfall\n",
      "dtypes: float64(4), int32(1), int64(1)None\n"
     ]
    }
   ],
   "source": [
    "print(d4.info())"
   ]
  },
  {
   "cell_type": "code",
   "execution_count": 26,
   "metadata": {},
   "outputs": [
    {
     "data": {
      "image/png": "[encoded data removed]",
      "text/plain": [
       "<Figure size 1000x1000 with 2 Axes>"
      ]
     },
     "metadata": {},
     "output_type": "display_data"
    }
   ],
   "source": [
    "#korrelationen anzeigen\n",
    "correlation = d4.corr().compute()\n",
    "plt.figure(figsize=(10,10))\n",
    "sns.heatmap(correlation, annot=True, cmap='coolwarm')\n",
    "plt.show()"
   ]
  },
  {
   "cell_type": "markdown",
   "metadata": {},
   "source": [
    "#### Rollender Mittelwert:"
   ]
  },
  {
   "cell_type": "code",
   "execution_count": 27,
   "metadata": {},
   "outputs": [],
   "source": [
    "#rollender mittelwert hinzufügen\n",
    "d4['Druck_rolling'] = d3['Druck'].rolling(window=12).mean()\n",
    "d4['Vibration_rolling'] = d3['Vibration'].rolling(window=12).mean()\n",
    "d4['Temperatur_rolling'] = d3['Temperatur'].rolling(window=12).mean()\n",
    "d4['Ausschuss_rolling'] = d3['Ausschuss'].rolling(window=12).mean()\n",
    "d4['Anzahlwarning_rolling'] = d3['Anzahlwarning'].rolling(window=12).mean()"
   ]
  },
  {
   "cell_type": "code",
   "execution_count": 28,
   "metadata": {},
   "outputs": [],
   "source": [
    "#rollende standardabweichung hinzufügen\n",
    "d4['Druck_std'] = d3['Druck'].rolling(window=12).std()\n",
    "d4['Vibration_std'] = d3['Vibration'].rolling(window=12).std()\n",
    "d4['Temperatur_std'] = d3['Temperatur'].rolling(window=12).std()\n",
    "d4['Anzahlwarning_std'] = d3['Anzahlwarning'].rolling(window=12).std()"
   ]
  },
  {
   "cell_type": "code",
   "execution_count": 29,
   "metadata": {},
   "outputs": [
    {
     "name": "stdout",
     "output_type": "stream",
     "text": [
      "<class 'dask.dataframe.core.DataFrame'>\n",
      "Columns: 10 entries, Ausfall to Anzahlwarning_std\n",
      "dtypes: float64(9), int32(1)"
     ]
    }
   ],
   "source": [
    "#andere spalten entfernen\n",
    "spalten_zu_behalten = [col for col in d4.columns if col not in ['Druck', 'Vibration', 'Temperatur', 'Ausschuss',\"Anzahlwarning\"]]\n",
    "\n",
    "# Filtern des DataFrames, um nur die gewünschten Spalten zu behalten\n",
    "d4 = d4[spalten_zu_behalten]\n",
    "d4.info()"
   ]
  },
  {
   "cell_type": "code",
   "execution_count": 30,
   "metadata": {},
   "outputs": [],
   "source": [
    "#fill NaN values with 0\n",
    "d4 = d4.fillna(0)"
   ]
  },
  {
   "cell_type": "code",
   "execution_count": 31,
   "metadata": {},
   "outputs": [],
   "source": [
    "#entfernen der Zeilen mit 0 werten Druck_rolling, Vibration_rolling, Temperatur_rolling, Ausschuss_rolling, Anzahlwarning_rolling aufgrund von rolling mean\n",
    "d4 = d4[d4['Druck_rolling'] != 0]\n",
    "d4 = d4[d4['Vibration_rolling'] != 0]\n",
    "d4 = d4[d4['Temperatur_rolling'] != 0]\n",
    "d4 = d4[d4['Ausschuss_rolling'] != 0]\n",
    "d4 = d4[d4['Anzahlwarning_rolling'] != 0]\n"
   ]
  },
  {
   "cell_type": "code",
   "execution_count": 32,
   "metadata": {},
   "outputs": [
    {
     "name": "stdout",
     "output_type": "stream",
     "text": [
      "<class 'dask.dataframe.core.DataFrame'>\n"
     ]
    }
   ],
   "source": [
    "print(type(d4))"
   ]
  },
  {
   "cell_type": "code",
   "execution_count": 33,
   "metadata": {},
   "outputs": [],
   "source": [
    "#Zielvariabl und Features trennen\n",
    "y = d4['Ausfall']  #Zielvariable\n",
    "\n",
    "spalten_zu_behalten = [col for col in d4.columns if col not in ['Ausfall']]\n",
    "X = d4[spalten_zu_behalten] #Features"
   ]
  },
  {
   "cell_type": "code",
   "execution_count": 47,
   "metadata": {},
   "outputs": [
    {
     "name": "stdout",
     "output_type": "stream",
     "text": [
      "<class 'dask.dataframe.core.Series'>\n",
      "<class 'dask.dataframe.core.DataFrame'>\n"
     ]
    }
   ],
   "source": [
    "print(type(y))\n",
    "print(type(X))"
   ]
  },
  {
   "cell_type": "code",
   "execution_count": 35,
   "metadata": {},
   "outputs": [],
   "source": [
    "import dask.array as da\n",
    "from dask_ml.model_selection import train_test_split\n",
    "#train test split 80/20\n",
    "X_train, X_test, y_train, y_test = train_test_split(X, y, test_size=0.2, shuffle=True, random_state=69)\n"
   ]
  },
  {
   "cell_type": "code",
   "execution_count": 36,
   "metadata": {},
   "outputs": [],
   "source": [
    "#Dask Dataframes in Dask Arrays umwandeln\n",
    "if isinstance(X_train, dd.DataFrame):\n",
    "    X_train = X_train.values\n",
    "if isinstance(X_test, dd.DataFrame):\n",
    "    X_test = X_test.values\n",
    "\n",
    "if isinstance(y_train, dd.Series):\n",
    "    y_train = y_train.values\n",
    "if isinstance(y_test, dd.Series):\n",
    "    y_test = y_test.values"
   ]
  },
  {
   "cell_type": "code",
   "execution_count": 37,
   "metadata": {},
   "outputs": [],
   "source": [
    "#chunk größen berechnen zum bearbeiten der Modelle\n",
    "X_test = X_test.compute_chunk_sizes()\n",
    "y_test = y_test.compute_chunk_sizes()"
   ]
  },
  {
   "cell_type": "markdown",
   "metadata": {},
   "source": [
    "## Parallele Berechnung für eine Logistische Regression"
   ]
  },
  {
   "cell_type": "code",
   "execution_count": 38,
   "metadata": {},
   "outputs": [
    {
     "name": "stdout",
     "output_type": "stream",
     "text": [
      "              precision    recall  f1-score   support\n",
      "\n",
      "           0       0.82      0.82      0.82       161\n",
      "           1       0.47      0.48      0.48        54\n",
      "\n",
      "    accuracy                           0.73       215\n",
      "   macro avg       0.65      0.65      0.65       215\n",
      "weighted avg       0.74      0.73      0.74       215\n",
      "\n"
     ]
    }
   ],
   "source": [
    "#trainieren des Logistischen Regressionsmodells\n",
    "from dask_ml.linear_model import LogisticRegression\n",
    "logmodel = LogisticRegression()\n",
    "logmodel.fit(X_train,y_train)\n",
    "#Ergebnisse ausgeben\n",
    "predictions = logmodel.predict(X_test)\n",
    "from sklearn.metrics import classification_report\n",
    "print(classification_report(y_test,predictions))"
   ]
  }
 ],
 "metadata": {
  "kernelspec": {
   "display_name": "Python 3",
   "language": "python",
   "name": "python3"
  },
  "language_info": {
   "codemirror_mode": {
    "name": "ipython",
    "version": 3
   },
   "file_extension": ".py",
   "mimetype": "text/x-python",
   "name": "python",
   "nbconvert_exporter": "python",
   "pygments_lexer": "ipython3",
   "version": "3.12.2"
  }
 },
 "nbformat": 4,
 "nbformat_minor": 2
}
