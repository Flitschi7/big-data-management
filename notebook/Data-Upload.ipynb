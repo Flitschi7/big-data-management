{
 "cells": [
  {
   "cell_type": "code",
   "execution_count": null,
   "metadata": {},
   "outputs": [],
   "source": [
    "# All imports required for data load in MongoDB Atlas\n",
    "import pymongo\n",
    "from pymongo import MongoClient\n",
    "from pymongo.server_api import ServerApi\n",
    "import json\n",
    "import os"
   ]
  },
  {
   "cell_type": "code",
   "execution_count": null,
   "metadata": {},
   "outputs": [],
   "source": [
    "# Import Data 'wartungsvertraege.csv' from folder data \n",
    "log_file = pd.read_csv('https://raw.githubusercontent.com/Flitschi7/big-data-management/main/data/wartung-log-ausfall.csv', sep=';', encoding='latin-1')"
   ]
  },
  {
   "cell_type": "code",
   "execution_count": null,
   "metadata": {},
   "outputs": [],
   "source": [
    "#die MongoDB Nutzerdaten müssen in Umgebungsvariablen gespeichert werden"
   ]
  },
  {
   "cell_type": "code",
   "execution_count": null,
   "metadata": {},
   "outputs": [],
   "source": [
    "#Umgebungsvariablen für MongoDB-Verbindung lesen\n",
    "mongo_user = os.getenv('MONGO_USER')\n",
    "mongo_password = os.getenv('MONGO_PASSWORD')\n",
    "mongo_cluster_url = os.getenv('MONGO_CLUSTER_URL')"
   ]
  },
  {
   "cell_type": "code",
   "execution_count": null,
   "metadata": {},
   "outputs": [],
   "source": [
    "#URI mit den gelesenen Umgebungsvariablen konstruieren\n",
    "uri = f\"mongodb+srv://{mongo_user}:{mongo_password}@{mongo_cluster_url}/?retryWrites=true&w=majority\"\n",
    "\n",
    "mongodbclient = MongoClient(uri, server_api=ServerApi('1'))\n",
    "\n",
    "try:\n",
    "    mongodbclient.admin.command('ping')\n",
    "    print(\"MongoDB connection: Success\")\n",
    "    \n",
    "except Exception as error:\n",
    "    print(error)"
   ]
  },
  {
   "cell_type": "code",
   "execution_count": null,
   "metadata": {},
   "outputs": [],
   "source": [
    "# Create database and collection\n",
    "datenbank = mongodbclient['Cluster0']\n",
    "collection = datenbank['data-project']"
   ]
  },
  {
   "cell_type": "code",
   "execution_count": null,
   "metadata": {},
   "outputs": [],
   "source": [
    "# Insert data into MongoDB Atlas\n",
    "with open (log_file) as file:\n",
    "    file_data = json.load(file)\n",
    "    \n",
    "print(file_data)\n",
    "collection.insert_one(file_data)"
   ]
  }
 ],
 "metadata": {
  "kernelspec": {
   "display_name": ".venv",
   "language": "python",
   "name": "python3"
  },
  "language_info": {
   "name": "python",
   "version": "3.12.2"
  }
 },
 "nbformat": 4,
 "nbformat_minor": 2
}
